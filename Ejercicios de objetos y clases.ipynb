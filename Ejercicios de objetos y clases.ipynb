{
  "cells": [
    {
      "cell_type": "markdown",
      "source": [
        "# Cuaderno de ejercicios\n",
        "## EJERCICIOS DE OBJETOS Y CLASES\n",
        "\n",
        "**Considera la siguiente definición de clase**:"
      ],
      "metadata": {
        "id": "L7zbNhqBo7Je"
      }
    },
    {
      "cell_type": "code",
      "source": [
        "class Empleado:\n",
        "  def __init__(self, nombre, apellido1, apellido2, dni, cargo, departamento, sueldo):\n",
        "    self.nombre = nombre\n",
        "    self.apellido1 = apellido1\n",
        "    self.apellido2 = apellido2\n",
        "    self.dni = dni\n",
        "    self.cargo = cargo\n",
        "    self.departamento = departamento\n",
        "    self.sueldo = sueldo\n",
        "\n",
        "  def __str__(self):\n",
        "    return f' Empleado {self.nombre} {self.apellido1} {self.apellido2} con DNI {self.dni}'"
      ],
      "metadata": {
        "id": "JZSG-oFlnoUR"
      },
      "execution_count": 31,
      "outputs": []
    },
    {
      "cell_type": "markdown",
      "source": [
        "### Ejercicio 1:\n",
        "Crea dos objetos de clase Empleado e imprímelos por pantalla."
      ],
      "metadata": {
        "id": "h69fOONipQ6V"
      }
    },
    {
      "cell_type": "code",
      "execution_count": 32,
      "metadata": {
        "id": "ry9OrMOmoWsm",
        "outputId": "a88d94c6-7533-44f0-82a1-b69555798e11",
        "colab": {
          "base_uri": "https://localhost:8080/"
        }
      },
      "outputs": [
        {
          "output_type": "stream",
          "name": "stdout",
          "text": [
            " Empleado Jose Manuel Pinillos Rubio con DNI 16602395Y\n",
            " Empleado Laura Gomez Lopez con DNI 74859632D\n"
          ]
        }
      ],
      "source": [
        "empleado1 = Empleado('Jose Manuel', 'Pinillos', 'Rubio', '16602395Y', 'Informático', 'IT', 3800)\n",
        "empleado2 = Empleado('Laura', 'Gomez', 'Lopez', '74859632D', 'Analista', 'Big Data', 4200)\n",
        "\n",
        "print(empleado1)\n",
        "print(empleado2)"
      ]
    },
    {
      "cell_type": "markdown",
      "source": [
        "### Ejercicio 2:\n",
        "Añade un método a la clase que devuelva el nombre completo del empleado en el\n",
        "formato: Apellido1 Apellido2, Nombre"
      ],
      "metadata": {
        "id": "UkWWPJWvq7Ng"
      }
    },
    {
      "cell_type": "code",
      "source": [
        "class Empleado:\n",
        "  def __init__(self, nombre, apellido1, apellido2, dni, cargo, departamento, sueldo):\n",
        "    self.nombre = nombre\n",
        "    self.apellido1 = apellido1\n",
        "    self.apellido2 = apellido2\n",
        "    self.dni = dni\n",
        "    self.cargo = cargo\n",
        "    self.departamento = departamento\n",
        "    self.sueldo = sueldo\n",
        "\n",
        "  def __str__(self):\n",
        "    return f' Empleado {self.nombre} {self.apellido1} {self.apellido2} con DNI {self.dni}'\n",
        "\n",
        "  @property\n",
        "  def nombreCompleto(self):\n",
        "    return f' {self.apellido1} {self.apellido2}, {self.nombre}'"
      ],
      "metadata": {
        "id": "nmmXKpgsrFnJ",
        "outputId": "9639458d-383c-40ff-f94b-94cfce86732b",
        "colab": {
          "base_uri": "https://localhost:8080/"
        }
      },
      "execution_count": 72,
      "outputs": [
        {
          "output_type": "stream",
          "name": "stdout",
          "text": [
            "<bound method Empleado.nombreCompleto of <__main__.Empleado object at 0x78ed77bb6440>>\n"
          ]
        }
      ]
    },
    {
      "cell_type": "code",
      "source": [
        "empleado1 = Empleado('Jose Manuel', 'Pinillos', 'Rubio', '16602395Y', 'Informático', 'IT', 3800)\n",
        "empleado2 = Empleado('Laura', 'Gomez', 'Lopez', '74859632D', 'Analista', 'Big Data', 4200)\n",
        "\n",
        "print(empleado1)\n",
        "print(empleado2.nombreCompleto)"
      ],
      "metadata": {
        "colab": {
          "base_uri": "https://localhost:8080/"
        },
        "id": "mGhQt2TFvK_c",
        "outputId": "a330bdd1-d1e7-4e35-8f84-9d3880ebed0e"
      },
      "execution_count": 79,
      "outputs": [
        {
          "output_type": "stream",
          "name": "stdout",
          "text": [
            " Empleado Jose Manuel Pinillos Rubio con DNI 16602395Y\n",
            " Gomez Lopez, Laura\n"
          ]
        }
      ]
    },
    {
      "cell_type": "markdown",
      "source": [
        "### Ejercicio 3:\n",
        "Añade un método a la clase para trasladar a un empleado a otro departamento,\n",
        "manteniendo igual el resto de sus datos."
      ],
      "metadata": {
        "id": "0Bz8Id2ir3Kh"
      }
    },
    {
      "cell_type": "code",
      "source": [
        "class Empleado:\n",
        "  def __init__(self, nombre, apellido1, apellido2, dni, cargo, departamento, sueldo):\n",
        "    self.nombre = nombre\n",
        "    self.apellido1 = apellido1\n",
        "    self.apellido2 = apellido2\n",
        "    self.dni = dni\n",
        "    self.cargo = cargo\n",
        "    self.departamento = departamento\n",
        "    self.sueldo = sueldo\n",
        "\n",
        "  def __str__(self):\n",
        "    return f' Empleado {self.nombre} {self.apellido1} {self.apellido2} con DNI {self.dni}'\n",
        "\n",
        "  @property\n",
        "  def nombreCompleto(self):\n",
        "    return f'{self.apellido1} {self.apellido2}, {self.nombre}'\n",
        "\n",
        "  def trasladar(self, nuevo_departamento) -> None:\n",
        "    self.departamento = nuevo_departamento"
      ],
      "metadata": {
        "id": "Joz6-FKFr-Mu"
      },
      "execution_count": 42,
      "outputs": []
    },
    {
      "cell_type": "code",
      "source": [
        "empleado1 = Empleado('Jose Manuel', 'Pinillos', 'Rubio', '16602395Y', 'Informático', 'IT', 3800)\n",
        "empleado2 = Empleado('Laura', 'Gomez', 'Lopez', '74859632D', 'Analista', 'Big Data', 4200)\n",
        "\n",
        "print(empleado1.departamento)\n",
        "empleado1.trasladar(\"Contabilidad\")\n",
        "print(empleado1.departamento)\n",
        "print(empleado1.nombreCompleto)"
      ],
      "metadata": {
        "colab": {
          "base_uri": "https://localhost:8080/"
        },
        "id": "g5NIdzBZfn35",
        "outputId": "58a0ffd3-a883-4c4c-e146-15d665ee8cb0"
      },
      "execution_count": 43,
      "outputs": [
        {
          "output_type": "stream",
          "name": "stdout",
          "text": [
            "3800\n",
            "Contabilidad\n",
            "Pinillos Rubio, Jose Manuel\n"
          ]
        }
      ]
    },
    {
      "cell_type": "markdown",
      "source": [
        "### Ejercicio 4:\n",
        "Dada una lista de empleados, ordénala según sus nombres completos e imprímela por pantalla."
      ],
      "metadata": {
        "id": "0e-pPtLUvFXn"
      }
    },
    {
      "cell_type": "code",
      "source": [
        "class Empleado:\n",
        "  def __init__(self, nombre, apellido1, apellido2, dni, cargo, departamento, sueldo):\n",
        "    self.nombre = nombre\n",
        "    self.apellido1 = apellido1\n",
        "    self.apellido2 = apellido2\n",
        "    self.dni = dni\n",
        "    self.cargo = cargo\n",
        "    self.departamento = departamento\n",
        "    self.sueldo = sueldo\n",
        "\n",
        "  def __str__(self):\n",
        "    return f' Empleado {self.nombre} {self.apellido1} {self.apellido2} con DNI {self.dni}'\n",
        "\n",
        "  @property\n",
        "  def nombreCompleto(self):\n",
        "    return f'{self.apellido1} {self.apellido2}, {self.nombre}'\n",
        "\n",
        "  def trasladar(self, nuevo_departamento) -> None:\n",
        "    self.departamento = nuevo_departamento\n",
        "\n",
        "  def obtener_nombre_completo(empleado):\n",
        "    return empleado.nombreCompleto"
      ],
      "metadata": {
        "id": "vAA4f7jfftj_"
      },
      "execution_count": 27,
      "outputs": []
    },
    {
      "cell_type": "code",
      "source": [
        "empleado1 = Empleado('Jose Manuel', 'Pinillos', 'Rubio', '16602395Y', 'Informático', 'IT', 3800)\n",
        "empleado2 = Empleado('Laura', 'Gomez', 'Lopez', '74859632D', 'Analista', 'Big Data', 5800)\n",
        "empleado3 = Empleado('Victor', 'Hugo', 'Sanz', '16521520E', 'Contabilidad', 'BI', 3200)\n",
        "empleado4 = Empleado('Ruben', 'Serna', 'Parrado', '19876543X', 'Gerencia', 'CISO', 6900)\n",
        "\n",
        "listaEmpleados = [empleado1, empleado2, empleado3, empleado4]\n",
        "listaEmpleados.sort(key=obtener_nombre_completo)\n",
        "\n",
        "for empleado in listaEmpleados:\n",
        "  print(empleado.nombreCompleto)"
      ],
      "metadata": {
        "id": "pWTOLXWYso9c",
        "outputId": "00fd84b2-dadf-4492-86a5-c2fa6360c7d9",
        "colab": {
          "base_uri": "https://localhost:8080/"
        }
      },
      "execution_count": 28,
      "outputs": [
        {
          "output_type": "stream",
          "name": "stdout",
          "text": [
            "Gomez Lopez, Laura\n",
            "Hugo Sanz, Victor\n",
            "Pinillos Rubio, Jose Manuel\n",
            "Serna Parrado, Ruben\n"
          ]
        }
      ]
    },
    {
      "cell_type": "markdown",
      "source": [
        "### Ejercicio 5:\n",
        "Dada una lista de empleados, calcula la lista de los que cobran más de 40000 e\n",
        "imprímela por pantalla."
      ],
      "metadata": {
        "id": "sdck7iOBq0JR"
      }
    },
    {
      "cell_type": "code",
      "source": [
        "empleado1 = Empleado('Jose Manuel', 'Pinillos', 'Rubio', '16602395Y', 'Informático', 'IT', 38000)\n",
        "empleado2 = Empleado('Laura', 'Gomez', 'Lopez', '74859632D', 'Analista', 'Big Data', 58000)\n",
        "empleado3 = Empleado('Victor', 'Hugo', 'Sanz', '16521520E', 'Contabilidad', 'BI', 32000)\n",
        "empleado4 = Empleado('Ruben', 'Serna', 'Parrado', '19876543X', 'Gerencia', 'CISO', 69000)\n",
        "\n",
        "listaEmpleados = [empleado1, empleado2, empleado3, empleado4]\n",
        "sublistaEmpleados = []\n",
        "\n",
        "for empleado in listaEmpleados:\n",
        "  if empleado.sueldo > 40000:\n",
        "    sublistaEmpleados.append(empleado)\n",
        "\n",
        "for empleado in sublistaEmpleados:\n",
        "  print(empleado.nombreCompleto)"
      ],
      "metadata": {
        "id": "fvR3PwaUWUXu",
        "outputId": "c4182f1e-91b3-4004-cda4-2cfbfb9eef17",
        "colab": {
          "base_uri": "https://localhost:8080/"
        }
      },
      "execution_count": 57,
      "outputs": [
        {
          "output_type": "stream",
          "name": "stdout",
          "text": [
            "Gomez Lopez, Laura\n",
            "Serna Parrado, Ruben\n"
          ]
        }
      ]
    },
    {
      "cell_type": "markdown",
      "source": [
        "### Ejercicio 6:\n",
        "Dada una lista de empleados, aplícales una subida de sueldo del 20% y calcula la suma de todos los sueldos resultantes."
      ],
      "metadata": {
        "id": "zmzfH4RHq0yi"
      }
    },
    {
      "cell_type": "code",
      "source": [
        "class Empleado:\n",
        "  def __init__(self, nombre, apellido1, apellido2, dni, cargo, departamento, sueldo):\n",
        "    self.nombre = nombre\n",
        "    self.apellido1 = apellido1\n",
        "    self.apellido2 = apellido2\n",
        "    self.dni = dni\n",
        "    self.cargo = cargo\n",
        "    self.departamento = departamento\n",
        "    self.sueldo = sueldo\n",
        "\n",
        "  def __str__(self):\n",
        "    return f' Empleado {self.nombre} {self.apellido1} {self.apellido2} con DNI {self.dni}'\n",
        "\n",
        "  @property\n",
        "  def nombreCompleto(self):\n",
        "    return f'{self.apellido1} {self.apellido2}, {self.nombre}'\n",
        "\n",
        "  def trasladar(self, nuevo_departamento) -> None:\n",
        "    self.departamento = nuevo_departamento\n",
        "\n",
        "  def obtener_nombre_completo(empleado):\n",
        "    return empleado.nombreCompleto\n",
        "\n",
        "  def subirSueldo(self, aumento) -> None:\n",
        "    self.sueldo += (self.sueldo * aumento / 100)"
      ],
      "metadata": {
        "id": "Oe3iJvo6jb57"
      },
      "execution_count": 75,
      "outputs": []
    },
    {
      "cell_type": "code",
      "source": [
        "empleado1 = Empleado('Jose Manuel', 'Pinillos', 'Rubio', '16602395Y', 'Informático', 'IT', 38000)\n",
        "empleado2 = Empleado('Laura', 'Gomez', 'Lopez', '74859632D', 'Analista', 'Big Data', 58000)\n",
        "empleado3 = Empleado('Victor', 'Hugo', 'Sanz', '16521520E', 'Contabilidad', 'BI', 32000)\n",
        "empleado4 = Empleado('Ruben', 'Serna', 'Parrado', '19876543X', 'Gerencia', 'CISO', 69000)\n",
        "\n",
        "listaEmpleados = [empleado1, empleado2, empleado3, empleado4]\n",
        "aumento = int(input(\"Especifique el porcentaje de subida de sueldo para sus empleados: \"))\n",
        "suma = 0\n",
        "\n",
        "for empleado in listaEmpleados:\n",
        "    empleado.subirSueldo(aumento)\n",
        "\n",
        "for empleado in listaEmpleados:\n",
        "  suma += empleado.sueldo\n",
        "\n",
        "print(suma)"
      ],
      "metadata": {
        "colab": {
          "base_uri": "https://localhost:8080/"
        },
        "id": "G0wq19Anq1GR",
        "outputId": "59ebfae8-7abc-45ee-af34-adca5bf5bc41"
      },
      "execution_count": 82,
      "outputs": [
        {
          "output_type": "stream",
          "name": "stdout",
          "text": [
            "Especifique el porcentaje de subida de sueldo para sus empleados: 20\n",
            "236400.0\n"
          ]
        }
      ]
    }
  ],
  "metadata": {
    "language_info": {
      "name": "python"
    },
    "colab": {
      "provenance": [],
      "toc_visible": true
    },
    "kernelspec": {
      "name": "python3",
      "display_name": "Python 3"
    }
  },
  "nbformat": 4,
  "nbformat_minor": 0
}