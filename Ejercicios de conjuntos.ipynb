{
  "cells": [
    {
      "cell_type": "markdown",
      "source": [
        "# Cuaderno de ejercicios\n",
        "## EJERCICIOS DE CONJUNTOS\n",
        "### Ejercicio 1:\n",
        "Escribe un programa en Python que cree un conjunto vacío, y a continuación inserte todos los números enteros divisibles por 3 y menores que 100."
      ],
      "metadata": {
        "id": "L7zbNhqBo7Je"
      }
    },
    {
      "cell_type": "code",
      "execution_count": 42,
      "metadata": {
        "id": "ry9OrMOmoWsm",
        "outputId": "c9e70f6c-e1f9-43f2-e15d-3dd0eb786194",
        "colab": {
          "base_uri": "https://localhost:8080/"
        }
      },
      "outputs": [
        {
          "output_type": "stream",
          "name": "stdout",
          "text": [
            "{0, 3, 6, 9, 12, 15, 18, 21, 24, 27, 30, 33, 36, 39, 42, 45, 48, 51, 54, 57, 60, 63, 66, 69, 72, 75, 78, 81, 84, 87, 90, 93, 96, 99}\n"
          ]
        }
      ],
      "source": [
        "conjunto = set()\n",
        "\n",
        "for i in range(0,100,3):\n",
        "  conjunto.add(i)\n",
        "\n",
        "print(conjunto)"
      ]
    },
    {
      "cell_type": "markdown",
      "source": [
        "### Ejercicio 2:\n",
        "Escribe un programa en Python que calcule la unión del conjunto de los números\n",
        "naturales menores que 100 que son divisibles por 7 con el conjunto de los números naturales menores que 200 que son divisibles por 13."
      ],
      "metadata": {
        "id": "UkWWPJWvq7Ng"
      }
    },
    {
      "cell_type": "code",
      "source": [
        "conjunto1 = set()\n",
        "conjunto2 = set()\n",
        "\n",
        "for i in range(0,100,7):\n",
        "  conjunto1.add(i)\n",
        "\n",
        "for i in range(0,200,13):\n",
        "  conjunto2.add(i)\n",
        "\n",
        "print(conjunto1 | conjunto2)"
      ],
      "metadata": {
        "id": "nmmXKpgsrFnJ",
        "outputId": "c1c651f0-5a1b-4a2b-c6d3-787cdc090f04",
        "colab": {
          "base_uri": "https://localhost:8080/"
        }
      },
      "execution_count": 45,
      "outputs": [
        {
          "output_type": "stream",
          "name": "stdout",
          "text": [
            "{0, 65, 130, 195, 70, 7, 77, 14, 13, 78, 143, 84, 21, 26, 91, 28, 156, 98, 35, 39, 104, 169, 42, 49, 52, 117, 182, 56, 63}\n"
          ]
        }
      ]
    },
    {
      "cell_type": "markdown",
      "source": [
        "### Ejercicio 3:\n",
        "Escribe un programa que elimine los elementos duplicados de una lista usando un\n",
        "conjunto."
      ],
      "metadata": {
        "id": "0Bz8Id2ir3Kh"
      }
    },
    {
      "cell_type": "code",
      "source": [
        "myList = [1, 2, 3, 2, 4, 5, 3, 6, 7, 5]\n",
        "conjunto_myList = set(myList)\n",
        "print(conjunto_myList)\n"
      ],
      "metadata": {
        "id": "Joz6-FKFr-Mu",
        "outputId": "3fd55eb9-e599-4c06-a1f8-858614a408b6",
        "colab": {
          "base_uri": "https://localhost:8080/"
        }
      },
      "execution_count": 10,
      "outputs": [
        {
          "output_type": "stream",
          "name": "stdout",
          "text": [
            "{1, 2, 3, 4, 5, 6, 7}\n"
          ]
        }
      ]
    },
    {
      "cell_type": "markdown",
      "source": [
        "### Ejercicio 4:\n",
        "Escribe un programa en Python para contar el número de caracteres diferentes que\n",
        "ocurren en una cadena introducida por teclado."
      ],
      "metadata": {
        "id": "0e-pPtLUvFXn"
      }
    },
    {
      "cell_type": "code",
      "source": [
        "text = input(\"Escriba un texto: \")\n",
        "conjunto_text = set(text)\n",
        "\n",
        "print(len(conjunto_text))"
      ],
      "metadata": {
        "id": "pWTOLXWYso9c",
        "outputId": "6c1dec73-581a-4713-9f20-d6d037dbc172",
        "colab": {
          "base_uri": "https://localhost:8080/"
        }
      },
      "execution_count": 21,
      "outputs": [
        {
          "output_type": "stream",
          "name": "stdout",
          "text": [
            "Escriba un texto: hola caracola\n",
            "7\n"
          ]
        }
      ]
    },
    {
      "cell_type": "markdown",
      "source": [
        "### Ejercicio 5:\n",
        "Escribe un programa en Python que, dadas dos cadenas, imprima por pantalla los\n",
        "caracteres diferentes que aparecen en la primera cadena pero no en la segunda."
      ],
      "metadata": {
        "id": "sdck7iOBq0JR"
      }
    },
    {
      "cell_type": "code",
      "source": [
        "text1 = \"El que a buen árbol se arrima\"\n",
        "text2 = \"buena sombra le cobija\"\n",
        "\n",
        "conjunto_text1 = set(text1)\n",
        "conjunto_text2 = set(text2)\n",
        "\n",
        "print(conjunto_text1 - conjunto_text2)"
      ],
      "metadata": {
        "id": "L9Xn8D-zq0ij",
        "colab": {
          "base_uri": "https://localhost:8080/"
        },
        "outputId": "abf049ff-0557-4785-a3dc-650dfc158edb"
      },
      "execution_count": 26,
      "outputs": [
        {
          "output_type": "stream",
          "name": "stdout",
          "text": [
            "{'q', 'E', 'á'}\n"
          ]
        }
      ]
    },
    {
      "cell_type": "markdown",
      "source": [
        "### Ejercicio 6:\n",
        "Escribe un programa en Python que, dadas tres listas de números enteros, imprima por pantalla aquellos números que aparezcan al menos una vez en cada una de las tres listas."
      ],
      "metadata": {
        "id": "zmzfH4RHq0yi"
      }
    },
    {
      "cell_type": "code",
      "source": [
        "lista1 = [4, 6, 2, 8, 11, 9, 3, 5, 8]\n",
        "lista2 = [14, 9, 7, 0, 11, 16, 3, 15, 13]\n",
        "lista3 = [9, 88, 2, 1, 0, 9, 3, 25, 7]\n",
        "\n",
        "conjunto_lista1 = set(lista1)\n",
        "conjunto_lista2 = set(lista2)\n",
        "conjunto_lista3 = set(lista3)\n",
        "\n",
        "print(conjunto_lista1 & conjunto_lista2 & conjunto_lista3)"
      ],
      "metadata": {
        "colab": {
          "base_uri": "https://localhost:8080/"
        },
        "id": "G0wq19Anq1GR",
        "outputId": "4f0cd3b5-7fd7-4137-abf8-49ce2bb8b231"
      },
      "execution_count": 36,
      "outputs": [
        {
          "output_type": "stream",
          "name": "stdout",
          "text": [
            "{9, 3}\n",
            "{9, 3}\n"
          ]
        }
      ]
    }
  ],
  "metadata": {
    "language_info": {
      "name": "python"
    },
    "colab": {
      "provenance": [],
      "toc_visible": true
    },
    "kernelspec": {
      "name": "python3",
      "display_name": "Python 3"
    }
  },
  "nbformat": 4,
  "nbformat_minor": 0
}