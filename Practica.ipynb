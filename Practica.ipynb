{
  "cells": [
    {
      "cell_type": "markdown",
      "source": [
        "# Cuaderno de ejercicios\n",
        "## EJERCICIOS DE CADENAS\n",
        "### Ejercicio 1:\n",
        "Escribe un programa que defina cuatro variables de tipo cadena de las siguientes\n",
        "maneras: con comillas dobles, con comillas simples, con una cadena de varias líneas, y\n",
        "con comillas triples. Después debe imprimir por pantalla dichas variables."
      ],
      "metadata": {
        "id": "L7zbNhqBo7Je"
      }
    },
    {
      "cell_type": "code",
      "execution_count": 12,
      "metadata": {
        "id": "ry9OrMOmoWsm",
        "outputId": "bf41b4fb-1326-417f-e035-0f16b34b211b",
        "colab": {
          "base_uri": "https://localhost:8080/"
        }
      },
      "outputs": [
        {
          "output_type": "stream",
          "name": "stdout",
          "text": [
            "Cadena de comillas dobles.\n",
            "Cadena de comillas simples.\n",
            "Cadena\n",
            "de varias líneas.\n",
            "\n",
            "El uso de comillas\n",
            "triples\n",
            "produce este efecto.\n",
            "\n"
          ]
        }
      ],
      "source": [
        "stringA = \"Cadena de comillas dobles.\"\n",
        "stringB = 'Cadena de comillas simples.'\n",
        "stringC = \"Cadena\\nde varias líneas.\"\n",
        "stringD = \"\"\"\n",
        "El uso de comillas\n",
        "triples\n",
        "produce este efecto.\n",
        "\"\"\"\n",
        "\n",
        "print(stringA)\n",
        "print(stringB)\n",
        "print(stringC)\n",
        "print(stringD)"
      ]
    },
    {
      "cell_type": "markdown",
      "source": [
        "### Ejercicio 2:\n",
        "Escribe un programa que lea una cadena por teclado y un número entero. A continuación, debe imprimir la cadena en líneas distintas tantas veces como indique el número tecleado."
      ],
      "metadata": {
        "id": "UkWWPJWvq7Ng"
      }
    },
    {
      "cell_type": "code",
      "source": [
        "try:\n",
        "  text = input(\"Introduzca un texto \")\n",
        "  number = int(input(\"Introduzca un número entero \"))\n",
        "  for i in range(int(number)):\n",
        "    print(text)\n",
        "\n",
        "except ValueError:\n",
        "  print(\"El valor introducido no es un número entero.\")"
      ],
      "metadata": {
        "id": "nmmXKpgsrFnJ",
        "outputId": "87121749-85a9-457e-ce91-49ac7d285fdd",
        "colab": {
          "base_uri": "https://localhost:8080/"
        }
      },
      "execution_count": 37,
      "outputs": [
        {
          "output_type": "stream",
          "name": "stdout",
          "text": [
            "Introduzca un texto asdf\n",
            "Introduzca un número entero 2\n",
            "asdf\n",
            "asdf\n"
          ]
        }
      ]
    },
    {
      "cell_type": "markdown",
      "source": [
        "### Ejercicio 3:\n",
        "Escribe un programa que lea una cadena por teclado y después imprima la cadena tres veces: una con todas las letras en minúscula, otra con todas las letras en mayúscula, y otra con las iniciales de las palabras en mayúscula."
      ],
      "metadata": {
        "id": "0Bz8Id2ir3Kh"
      }
    },
    {
      "cell_type": "code",
      "source": [
        "text = input(\"Por favor, introduzca un texto: \")\n",
        "print(text.lower())\n",
        "print(text.upper())\n",
        "print(text.title())\n"
      ],
      "metadata": {
        "id": "Joz6-FKFr-Mu",
        "outputId": "96dfcbaf-7949-4368-eb75-f416fcedd93a",
        "colab": {
          "base_uri": "https://localhost:8080/"
        }
      },
      "execution_count": 39,
      "outputs": [
        {
          "output_type": "stream",
          "name": "stdout",
          "text": [
            "Por favor, introduzca un texto: Holasdf lh ldasf\n",
            "holasdf lh ldasf\n",
            "HOLASDF LH LDASF\n",
            "Holasdf Lh Ldasf\n"
          ]
        }
      ]
    },
    {
      "cell_type": "markdown",
      "source": [
        "### Ejercicio 4:\n",
        "Escribe un programa que lea una cadena por teclado, y a continuación imprima el\n",
        "mensaje `<CADENA>` tiene $n$ caracteres , siendo `<CADENA>` la cadena en mayúsculas\n",
        "y n el número de caracteres de dicha cadena."
      ],
      "metadata": {
        "id": "0e-pPtLUvFXn"
      }
    },
    {
      "cell_type": "code",
      "source": [
        "text = input(\"Por favor, introduzca un texto: \")\n",
        "print(text.upper() + \", tiene \" + str(len(text)) + \" carateres.\")"
      ],
      "metadata": {
        "id": "pWTOLXWYso9c",
        "outputId": "cb91e96e-fd98-4602-8890-1acbc87d0487",
        "colab": {
          "base_uri": "https://localhost:8080/"
        }
      },
      "execution_count": 44,
      "outputs": [
        {
          "output_type": "stream",
          "name": "stdout",
          "text": [
            "Por favor, introduzca un texto: hola mundo\n",
            "HOLA MUNDO, tiene 10 carateres.\n"
          ]
        }
      ]
    }
  ],
  "metadata": {
    "language_info": {
      "name": "python"
    },
    "colab": {
      "provenance": []
    },
    "kernelspec": {
      "name": "python3",
      "display_name": "Python 3"
    }
  },
  "nbformat": 4,
  "nbformat_minor": 0
}