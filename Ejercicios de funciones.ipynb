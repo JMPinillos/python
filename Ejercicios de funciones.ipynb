{
  "cells": [
    {
      "cell_type": "markdown",
      "source": [
        "# Cuaderno de ejercicios\n",
        "## EJERCICIOS DE FUNCIONES\n",
        "### Ejercicio 1:\n",
        "Escribe una función que calcule el factorial de un número entero dado."
      ],
      "metadata": {
        "id": "L7zbNhqBo7Je"
      }
    },
    {
      "cell_type": "code",
      "execution_count": null,
      "metadata": {
        "id": "ry9OrMOmoWsm",
        "outputId": "01ef6978-3390-4733-c681-f1273d90b7ec",
        "colab": {
          "base_uri": "https://localhost:8080/"
        }
      },
      "outputs": [
        {
          "output_type": "stream",
          "name": "stdout",
          "text": [
            "1\n",
            "479001600\n"
          ]
        }
      ],
      "source": [
        "def factorial(n):\n",
        "  factorial = 1\n",
        "  for i in range(n):\n",
        "    factorial *= i+1\n",
        "\n",
        "  return factorial\n",
        "\n",
        "print(factorial(2))\n",
        "print(factorial(12))"
      ]
    },
    {
      "cell_type": "markdown",
      "source": [
        "### Ejercicio 2:\n",
        "Escribe una función para calcular la suma de todos los elementos de una lista."
      ],
      "metadata": {
        "id": "UkWWPJWvq7Ng"
      }
    },
    {
      "cell_type": "code",
      "source": [
        "def suma_lista(lista):\n",
        "  suma = 0\n",
        "  for i in lista:\n",
        "    suma += i\n",
        "\n",
        "  return suma\n",
        "\n",
        "lista = [1, 2, 3, 4, 5]\n",
        "print(\"Suma:\", suma_lista(lista))"
      ],
      "metadata": {
        "id": "nmmXKpgsrFnJ",
        "outputId": "73e8e1fc-a8b6-45fd-a2ea-5a3c2771a189",
        "colab": {
          "base_uri": "https://localhost:8080/"
        }
      },
      "execution_count": null,
      "outputs": [
        {
          "output_type": "stream",
          "name": "stdout",
          "text": [
            "Suma: 15\n"
          ]
        }
      ]
    },
    {
      "cell_type": "markdown",
      "source": [
        "### Ejercicio 3:\n",
        "Escribe una función para contar el número de vocales de una cadena."
      ],
      "metadata": {
        "id": "0Bz8Id2ir3Kh"
      }
    },
    {
      "cell_type": "code",
      "source": [
        "def contarVocales(cadena):\n",
        "  vocales = \"aeiouAEIOU\"\n",
        "  contador = 0\n",
        "\n",
        "  for i in cadena:\n",
        "    if i in vocales:\n",
        "      contador += 1\n",
        "\n",
        "  return contador\n",
        "\n",
        "texto = input(\"Introduzca un texto: \")\n",
        "print(\"Número de vocales: \", contarVocales(texto))"
      ],
      "metadata": {
        "id": "Joz6-FKFr-Mu",
        "outputId": "fe037fe8-cce6-470f-acd8-7a85b52615e6",
        "colab": {
          "base_uri": "https://localhost:8080/"
        }
      },
      "execution_count": null,
      "outputs": [
        {
          "output_type": "stream",
          "name": "stdout",
          "text": [
            "Introduzca un texto: hola\n",
            "Número de vocales:  2\n"
          ]
        }
      ]
    },
    {
      "cell_type": "markdown",
      "source": [
        "### Ejercicio 4:\n",
        "Escribe una función para comprobar si una cadena es un palíndromo."
      ],
      "metadata": {
        "id": "0e-pPtLUvFXn"
      }
    },
    {
      "cell_type": "code",
      "source": [
        "def palindromo(cadena):\n",
        "  reverseText = cadena[::-1].lower()\n",
        "\n",
        "  if cadena.lower() == reverseText:\n",
        "    return(\"es un palindromo\")\n",
        "  else:\n",
        "    return(\"no es un palindromo\")\n",
        "\n",
        "text = input(\"Introduzca un texto: \")\n",
        "print(f\"El texto introducido {palindromo(text)}\")"
      ],
      "metadata": {
        "id": "pWTOLXWYso9c",
        "outputId": "e448fa51-de49-4d4a-9c5a-62bccdd52cc9",
        "colab": {
          "base_uri": "https://localhost:8080/"
        }
      },
      "execution_count": 11,
      "outputs": [
        {
          "output_type": "stream",
          "name": "stdout",
          "text": [
            "Introduzca un texto: hola\n",
            "El texto introducido no es un palindromo\n"
          ]
        }
      ]
    },
    {
      "cell_type": "markdown",
      "source": [
        "### Ejercicio 5:\n",
        "Escribe una función que elimine los duplicados de una lista."
      ],
      "metadata": {
        "id": "sdck7iOBq0JR"
      }
    },
    {
      "cell_type": "code",
      "source": [
        "# Opción 1:\n",
        "\n",
        "def eraseDuplicated(lista):\n",
        "  uniqueValues = []\n",
        "\n",
        "  for i in lista:\n",
        "    if i not in uniqueValues:\n",
        "        uniqueValues.append(i)\n",
        "\n",
        "  return uniqueValues\n",
        "\n",
        "lista = ['Pedro', 'Jose', 'Pedro', 'Juan', 'Pepe']\n",
        "print(eraseDuplicated(lista))"
      ],
      "metadata": {
        "id": "L9Xn8D-zq0ij",
        "colab": {
          "base_uri": "https://localhost:8080/"
        },
        "outputId": "1bc0cc1c-d7ac-484d-cbd3-6fd0069c6542"
      },
      "execution_count": null,
      "outputs": [
        {
          "output_type": "stream",
          "name": "stdout",
          "text": [
            "['Pedro', 'Jose', 'Juan', 'Pepe']\n"
          ]
        }
      ]
    },
    {
      "cell_type": "code",
      "source": [
        "# Opción 2:\n",
        "\n",
        "def eraseDuplicated(lista):\n",
        "  uniqueValues = list(set(lista))\n",
        "\n",
        "  return uniqueValues\n",
        "\n",
        "lista = ['Pedro', 'Jose', 'Pedro', 'Juan', 'Pepe']\n",
        "print(eraseDuplicated(lista))"
      ],
      "metadata": {
        "id": "fvR3PwaUWUXu",
        "outputId": "88e19449-7cab-4d1b-8120-eaff70a466d6",
        "colab": {
          "base_uri": "https://localhost:8080/"
        }
      },
      "execution_count": null,
      "outputs": [
        {
          "output_type": "stream",
          "name": "stdout",
          "text": [
            "['Juan', 'Jose', 'Pedro', 'Pepe']\n"
          ]
        }
      ]
    },
    {
      "cell_type": "markdown",
      "source": [
        "### Ejercicio 6:\n",
        "Escribe una función que calcula el mínimo y el máximo elemento de una lista, y los devuelve en una tupla."
      ],
      "metadata": {
        "id": "zmzfH4RHq0yi"
      }
    },
    {
      "cell_type": "code",
      "source": [
        "def minMax(lista):\n",
        "  minimun = []\n",
        "  maximun = []\n",
        "  minimun = min(lista)\n",
        "  maximun = max(lista)\n",
        "\n",
        "  return minimun, maximun\n",
        "\n",
        "lista = [1, 2, 3, 4, 5]\n",
        "minimun, maximun = minMax(lista)\n",
        "print(f\"El número minimo es el {minimun}\")\n",
        "print(f\"El número maximo es el {maximun}\")"
      ],
      "metadata": {
        "colab": {
          "base_uri": "https://localhost:8080/"
        },
        "id": "G0wq19Anq1GR",
        "outputId": "02d7b23c-bcf5-4503-abce-4ff98f757b43"
      },
      "execution_count": null,
      "outputs": [
        {
          "output_type": "stream",
          "name": "stdout",
          "text": [
            "El número minimo es el 1\n",
            "El número maximo es el 5\n"
          ]
        }
      ]
    },
    {
      "cell_type": "markdown",
      "source": [
        "### Ejercicio 7:\n",
        "Escribe una función para comprobar si un número es primo."
      ],
      "metadata": {
        "id": "rF3JAKt_q1Qt"
      }
    },
    {
      "cell_type": "code",
      "source": [
        "def es_primo(n):\n",
        "  if n <= 1:\n",
        "    return False\n",
        "\n",
        "  for i in range(2, int(n**0.5) + 1):\n",
        "    if n % i == 0:\n",
        "      return False\n",
        "\n",
        "  return True\n",
        "\n",
        "numero = int(input(\"Introduzca un número entero positivo: \"))\n",
        "\n",
        "if es_primo(numero):\n",
        "  print(\"Primo\")\n",
        "else:\n",
        "  print(\"No es primo\")"
      ],
      "metadata": {
        "colab": {
          "base_uri": "https://localhost:8080/"
        },
        "id": "cs1WcKNIq1hV",
        "outputId": "d4b6e33f-342a-493d-d649-b872029c671e"
      },
      "execution_count": null,
      "outputs": [
        {
          "output_type": "stream",
          "name": "stdout",
          "text": [
            "Introduzca un número entero positivo: 7\n",
            "Primo\n"
          ]
        }
      ]
    },
    {
      "cell_type": "markdown",
      "source": [
        "### Ejercicio 8:\n",
        "Escribe una función para invertir una cadena."
      ],
      "metadata": {
        "id": "OIqHSCR3q1t3"
      }
    },
    {
      "cell_type": "code",
      "source": [
        "def inverter(cadena):\n",
        "  inverter = cadena[::-1]\n",
        "  return inverter\n",
        "\n",
        "cadena = input(\"Introduzca un texto: \")\n",
        "print(inverter(cadena))"
      ],
      "metadata": {
        "id": "AOTgLS1Eq2RA",
        "colab": {
          "base_uri": "https://localhost:8080/"
        },
        "outputId": "ea23dd72-8cb8-4ec6-acd1-1332ffe5a839"
      },
      "execution_count": 14,
      "outputs": [
        {
          "output_type": "stream",
          "name": "stdout",
          "text": [
            "Introduzca un texto: hola\n",
            "aloh\n"
          ]
        }
      ]
    },
    {
      "cell_type": "markdown",
      "source": [
        "### Ejercicio 9\n",
        "\n",
        "Escribe una función para hallar el segundo menor elemento de una lista de números.\n"
      ],
      "metadata": {
        "id": "KJWMXdPjq2m6"
      }
    },
    {
      "cell_type": "code",
      "source": [
        "def minimun(lista):\n",
        "  lista_ordenada = sorted(lista)\n",
        "\n",
        "  return lista_ordenada[1]\n",
        "\n",
        "lista = [1, 5, 3, 8, 5]\n",
        "print(f\"El segundo menor elemento de la listas es {minimun(lista)}\")\n"
      ],
      "metadata": {
        "colab": {
          "base_uri": "https://localhost:8080/"
        },
        "id": "d_O7G77iq3Gf",
        "outputId": "8c33be32-4ecf-4f78-97da-a1ae536f6ea0"
      },
      "execution_count": 21,
      "outputs": [
        {
          "output_type": "stream",
          "name": "stdout",
          "text": [
            "El segundo menor elemento de la listas es 3\n"
          ]
        }
      ]
    },
    {
      "cell_type": "markdown",
      "source": [
        "### Ejercicio 10\n",
        "\n",
        "Escribe una función para comprobar si dos cadenas son anagramas."
      ],
      "metadata": {
        "id": "3Ivv1DGjk3eL"
      }
    },
    {
      "cell_type": "code",
      "source": [
        "def anagrama(cadena1, cadena2):\n",
        "\n",
        "  if len(cadena1) == len(cadena2):\n",
        "    palabra1 = list(sorted(cadena1.lower()))\n",
        "    palabra2 = list(sorted(cadena2.lower()))\n",
        "\n",
        "    if palabra1 == palabra2:\n",
        "      return True\n",
        "    else:\n",
        "      return False\n",
        "\n",
        "palabra1 = input(\"Introduzca una palabra: \")\n",
        "palabra2 = input(\"Introduzca una palabra: \")\n",
        "\n",
        "if anagrama(palabra1, palabra2):\n",
        "  print(f\"{palabra1} y {palabra2} son anagramas.\")\n",
        "else:\n",
        "  print(f\"{palabra1} y {palabra2} no on anagramas.\")"
      ],
      "metadata": {
        "colab": {
          "base_uri": "https://localhost:8080/"
        },
        "id": "d8VOl97GjR9K",
        "outputId": "c38821d8-4c6d-4a5f-aeac-5bccad192484"
      },
      "execution_count": 38,
      "outputs": [
        {
          "output_type": "stream",
          "name": "stdout",
          "text": [
            "Introduzca una palabra: fj nkdlpaf\n",
            "Introduzca una palabra: e9ivnode\n",
            "fj nkdlpaf y e9ivnode no on anagramas.\n"
          ]
        }
      ]
    },
    {
      "cell_type": "markdown",
      "source": [
        "### Ejercicio 11\n",
        "\n",
        "Escribe una función para calcular la suma de todos los números pares que haya en una lista."
      ],
      "metadata": {
        "id": "5o2ZqkMkjRqc"
      }
    },
    {
      "cell_type": "code",
      "source": [
        "def sumaPares(lista):\n",
        "  suma = 0\n",
        "\n",
        "  for i in lista:\n",
        "    if i % 2 == 0:\n",
        "      suma += i\n",
        "\n",
        "  return suma\n",
        "\n",
        "lista = [1, 2, 3, 4, 5, 6, 7, 8, 9, 10]\n",
        "print(sumaPares(lista))"
      ],
      "metadata": {
        "colab": {
          "base_uri": "https://localhost:8080/"
        },
        "id": "BVKkpM7foRfD",
        "outputId": "8c5fd21a-ffc0-4c91-b9d0-a092aee4a5fa"
      },
      "execution_count": 5,
      "outputs": [
        {
          "output_type": "stream",
          "name": "stdout",
          "text": [
            "30\n"
          ]
        }
      ]
    },
    {
      "cell_type": "markdown",
      "source": [
        "### Ejercicio 12\n",
        "\n",
        "Escribe una función para convertir una lista de cadenas a mayúsculas."
      ],
      "metadata": {
        "id": "fvIn8Go7oQju"
      }
    },
    {
      "cell_type": "code",
      "source": [
        "# Opción 1:\n",
        "\n",
        "def convertirMayusculas(lista):\n",
        "  listaMayusculas = []\n",
        "\n",
        "  for i in lista:\n",
        "    listaMayusculas.append(i.upper())\n",
        "\n",
        "  return listaMayusculas\n",
        "\n",
        "lista = ['pedro', 'Juan', 'PEPITO', 'javiEr']\n",
        "print(convertirMayusculas(lista))"
      ],
      "metadata": {
        "colab": {
          "base_uri": "https://localhost:8080/"
        },
        "id": "C2zyjV9KoRA0",
        "outputId": "0dff59c9-83f3-464c-f083-53e1de8b5973"
      },
      "execution_count": 9,
      "outputs": [
        {
          "output_type": "stream",
          "name": "stdout",
          "text": [
            "['PEDRO', 'JUAN', 'PEPITO', 'JAVIER']\n"
          ]
        }
      ]
    },
    {
      "cell_type": "code",
      "source": [
        "# Opción 2:\n",
        "\n",
        "def convertirMayusculas(lista):\n",
        "  return [cadena.upper() for cadena in lista]\n",
        "\n",
        "lista = [\"Antonio\", \"melón\", \"dificultoso\"]\n",
        "print(convertirMayusculas(lista))"
      ],
      "metadata": {
        "colab": {
          "base_uri": "https://localhost:8080/"
        },
        "id": "Ph5j4p3okXe-",
        "outputId": "3df8d31a-33a8-4110-aeeb-e6a6cb2a0094"
      },
      "execution_count": 10,
      "outputs": [
        {
          "output_type": "stream",
          "name": "stdout",
          "text": [
            "['ANTONIO', 'MELÓN', 'DIFICULTOSO']\n"
          ]
        }
      ]
    }
  ],
  "metadata": {
    "language_info": {
      "name": "python"
    },
    "colab": {
      "provenance": [],
      "toc_visible": true
    },
    "kernelspec": {
      "name": "python3",
      "display_name": "Python 3"
    }
  },
  "nbformat": 4,
  "nbformat_minor": 0
}