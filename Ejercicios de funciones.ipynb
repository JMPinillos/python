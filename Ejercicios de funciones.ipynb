{
  "cells": [
    {
      "cell_type": "markdown",
      "source": [
        "# Cuaderno de ejercicios\n",
        "## EJERCICIOS DE FUNCIONES\n",
        "### Ejercicio 1:\n",
        "Escribe una función que calcule el factorial de un número entero dado."
      ],
      "metadata": {
        "id": "L7zbNhqBo7Je"
      }
    },
    {
      "cell_type": "code",
      "execution_count": 32,
      "metadata": {
        "id": "ry9OrMOmoWsm",
        "outputId": "01ef6978-3390-4733-c681-f1273d90b7ec",
        "colab": {
          "base_uri": "https://localhost:8080/"
        }
      },
      "outputs": [
        {
          "output_type": "stream",
          "name": "stdout",
          "text": [
            "1\n",
            "479001600\n"
          ]
        }
      ],
      "source": [
        "def factorial(n):\n",
        "  factorial = 1\n",
        "  for i in range(n):\n",
        "    factorial *= i+1\n",
        "\n",
        "  return factorial\n",
        "\n",
        "print(factorial(6))\n",
        "print(factorial(12))"
      ]
    },
    {
      "cell_type": "markdown",
      "source": [
        "### Ejercicio 2:\n",
        "Escribe una función para calcular la suma de todos los elementos de una lista."
      ],
      "metadata": {
        "id": "UkWWPJWvq7Ng"
      }
    },
    {
      "cell_type": "code",
      "source": [
        "def suma_lista(lista):\n",
        "  suma = 0\n",
        "  for i in lista:\n",
        "    suma += i\n",
        "\n",
        "  return suma\n",
        "\n",
        "lista = [1, 2, 3, 4, 5]\n",
        "print(\"Suma:\", suma_lista(lista))"
      ],
      "metadata": {
        "id": "nmmXKpgsrFnJ",
        "outputId": "73e8e1fc-a8b6-45fd-a2ea-5a3c2771a189",
        "colab": {
          "base_uri": "https://localhost:8080/"
        }
      },
      "execution_count": 33,
      "outputs": [
        {
          "output_type": "stream",
          "name": "stdout",
          "text": [
            "Suma: 15\n"
          ]
        }
      ]
    },
    {
      "cell_type": "markdown",
      "source": [
        "### Ejercicio 3:\n",
        "Escribe una función para contar el número de vocales de una cadena."
      ],
      "metadata": {
        "id": "0Bz8Id2ir3Kh"
      }
    },
    {
      "cell_type": "code",
      "source": [
        "def contarVocales(cadena):\n",
        "  vocales = \"aeiouAEIOU\"\n",
        "  contador = 0\n",
        "\n",
        "  for i in cadena:\n",
        "    if i in vocales:\n",
        "      contador += 1\n",
        "\n",
        "  return contador\n",
        "\n",
        "texto = input(\"Introduzca un texto: \")\n",
        "print(\"Número de vocales: \", contarVocales(texto))"
      ],
      "metadata": {
        "id": "Joz6-FKFr-Mu",
        "outputId": "fe037fe8-cce6-470f-acd8-7a85b52615e6",
        "colab": {
          "base_uri": "https://localhost:8080/"
        }
      },
      "execution_count": 43,
      "outputs": [
        {
          "output_type": "stream",
          "name": "stdout",
          "text": [
            "Introduzca un texto: hola\n",
            "Número de vocales:  2\n"
          ]
        }
      ]
    },
    {
      "cell_type": "markdown",
      "source": [
        "### Ejercicio 4:\n",
        "Escribe un programa que le pregunte al usuario el peso en kilogramos de una compra de manzanas, y el precio por cada kilogramo de manzanas, e imprima por pantalla el coste total de la compra."
      ],
      "metadata": {
        "id": "0e-pPtLUvFXn"
      }
    },
    {
      "cell_type": "code",
      "source": [
        "weight = float(input(\"¿Cuanto pesan tus manzanas? \"))\n",
        "price = float(input(\"¿Cuanto cuesta cada kg de manzanas? \"))\n",
        "\n",
        "print(weight * price)"
      ],
      "metadata": {
        "id": "pWTOLXWYso9c",
        "outputId": "8541c7fa-24ea-4763-ce4d-7b10fc139109",
        "colab": {
          "base_uri": "https://localhost:8080/"
        }
      },
      "execution_count": 30,
      "outputs": [
        {
          "output_type": "stream",
          "name": "stdout",
          "text": [
            "¿Cuanto pesan tus manzanas?10\n",
            "¿Cuanto cuesta cada kg de manzanas?15.2\n",
            "152.0\n"
          ]
        }
      ]
    },
    {
      "cell_type": "markdown",
      "source": [
        "### Ejercicio 5:\n",
        "Escribe un programa que le pregunte al usuario un número entero positivo $n$, y a continuación calcule e imprima la suma de los enteros desde 1 hasta $n$. Dicha suma se calculará mediante esta fórmula:\n",
        "\n",
        "$$ 1 + 2 + ... + n = \\dfrac{n * (n + 1)}{2}$$"
      ],
      "metadata": {
        "id": "sdck7iOBq0JR"
      }
    },
    {
      "cell_type": "code",
      "source": [
        "numero = int(input(\"Escriba un número entero: \"))\n",
        "suma = numero*(numero+1)/2\n",
        "\n",
        "print(f\"La suma de los enteros desde 1 hasta {numero} es {suma}\")"
      ],
      "metadata": {
        "id": "L9Xn8D-zq0ij",
        "colab": {
          "base_uri": "https://localhost:8080/"
        },
        "outputId": "df54342a-6f36-4ad0-93e8-68ec010120bb"
      },
      "execution_count": 41,
      "outputs": [
        {
          "output_type": "stream",
          "name": "stdout",
          "text": [
            "Escriba un número entero: 5\n",
            "La suma de los enteros desde 1 hasta 5 es 15.0\n"
          ]
        }
      ]
    },
    {
      "cell_type": "markdown",
      "source": [
        "### Ejercicio 6:\n",
        "Escriba un programa que le pregunte al usuario su peso (en kilogramos) y su talla (en metros), y calcule e imprima su Índice de Masa Corporal (IMC) redondeado a dos decimales. La fórmula que debe usarse es:\n",
        "\n",
        "$$IMC = \\dfrac{peso\\ (kg)}{altura^2\\ (cm)}$$"
      ],
      "metadata": {
        "id": "zmzfH4RHq0yi"
      }
    },
    {
      "cell_type": "code",
      "source": [
        "peso = float(input(\"Escriba su peso en kg: \"))\n",
        "altura = float(input(\"Escriba su altura en metros: \"))\n",
        "print(\"su IMC es:\", peso/altura**2)"
      ],
      "metadata": {
        "colab": {
          "base_uri": "https://localhost:8080/"
        },
        "id": "G0wq19Anq1GR",
        "outputId": "f36d0461-fbc5-4bc5-fa3a-223f53c0e54e"
      },
      "execution_count": 46,
      "outputs": [
        {
          "output_type": "stream",
          "name": "stdout",
          "text": [
            "Escriba su peso en kg: 68\n",
            "Escriba su altura en metros: 1.7\n",
            "su IMC es: 23.529411764705884\n"
          ]
        }
      ]
    },
    {
      "cell_type": "markdown",
      "source": [
        "### Ejercicio 7:\n",
        "Escriba un programa que le pregunte al usuario dos números enteros, que llamaremos dividendo y divisor, respectivamente. A continuación, el programa debe calcular el cociente y el resto de la división entera del dividendo entre el divisor, e imprimir el mensaje: `<dividendo>` dividido entre `<divisor>` da cociente `<c>` y resto `<r>`"
      ],
      "metadata": {
        "id": "rF3JAKt_q1Qt"
      }
    },
    {
      "cell_type": "code",
      "source": [
        "dividendo = int(input(\"Por favor, introduzca un número entero: \"))\n",
        "divisor = int(input(\"Ahora introduzca un segundo número entero: \"))\n",
        "c = dividendo // divisor\n",
        "r = dividendo % divisor\n",
        "\n",
        "print(f\"{dividendo} dividido entre {divisor} da cociente {c} y resto {r}\")"
      ],
      "metadata": {
        "colab": {
          "base_uri": "https://localhost:8080/"
        },
        "id": "cs1WcKNIq1hV",
        "outputId": "b1e19c49-a5b7-440d-d95c-f07a7b2360e2"
      },
      "execution_count": 4,
      "outputs": [
        {
          "output_type": "stream",
          "name": "stdout",
          "text": [
            "Por favor, introduzca un número entero: 5\n",
            "Ahora introduzca un segundo número entero: 2\n",
            "5 dividido entre 2 da cociente 2 y resto 1\n"
          ]
        }
      ]
    },
    {
      "cell_type": "markdown",
      "source": [
        "### Ejercicio 8:\n",
        "Escribe un programa que le pregunte al usuario el capital inicial de un préstamo $C$, el tipo de interés efectivo $i$ y el número de periodos de pago $n$. A continuación el programa debe calcular e imprimir la cuota $a$ según el sistema de amortización francés de acuerdo con esta fórmula:\n",
        "\n",
        "$$a = \\dfrac{C * i}{1 - \\dfrac{1}{1 + i}}$$"
      ],
      "metadata": {
        "id": "OIqHSCR3q1t3"
      }
    },
    {
      "cell_type": "code",
      "source": [
        "c = float(input(\"Por favor, introduzca el capital inicial del prestamo: \"))\n",
        "i = float(input(\"Ahora introduzca el interes: \"))\n",
        "n = int(input(\"Por último, introduzca el número de periodos de pago: \"))\n",
        "\n",
        "a = (c*i) / (1-(1/(1+i))**n)\n",
        "\n",
        "print(f\"Su cuota es de {a}€\")"
      ],
      "metadata": {
        "colab": {
          "base_uri": "https://localhost:8080/",
          "height": 364
        },
        "id": "AOTgLS1Eq2RA",
        "outputId": "d4685c52-242f-43b8-96a8-3d7df956806e"
      },
      "execution_count": 13,
      "outputs": [
        {
          "output_type": "error",
          "ename": "KeyboardInterrupt",
          "evalue": "Interrupted by user",
          "traceback": [
            "\u001b[0;31m---------------------------------------------------------------------------\u001b[0m",
            "\u001b[0;31mKeyboardInterrupt\u001b[0m                         Traceback (most recent call last)",
            "\u001b[0;32m<ipython-input-13-8adc6f50292e>\u001b[0m in \u001b[0;36m<cell line: 1>\u001b[0;34m()\u001b[0m\n\u001b[0;32m----> 1\u001b[0;31m \u001b[0mc\u001b[0m \u001b[0;34m=\u001b[0m \u001b[0mfloat\u001b[0m\u001b[0;34m(\u001b[0m\u001b[0minput\u001b[0m\u001b[0;34m(\u001b[0m\u001b[0;34m\"Por favor, introduzca el capital inicial del prestamo: \"\u001b[0m\u001b[0;34m)\u001b[0m\u001b[0;34m)\u001b[0m\u001b[0;34m\u001b[0m\u001b[0;34m\u001b[0m\u001b[0m\n\u001b[0m\u001b[1;32m      2\u001b[0m \u001b[0mi\u001b[0m \u001b[0;34m=\u001b[0m \u001b[0mfloat\u001b[0m\u001b[0;34m(\u001b[0m\u001b[0minput\u001b[0m\u001b[0;34m(\u001b[0m\u001b[0;34m\"Ahora introduzca el interes: \"\u001b[0m\u001b[0;34m)\u001b[0m\u001b[0;34m)\u001b[0m\u001b[0;34m\u001b[0m\u001b[0;34m\u001b[0m\u001b[0m\n\u001b[1;32m      3\u001b[0m \u001b[0mn\u001b[0m \u001b[0;34m=\u001b[0m \u001b[0mint\u001b[0m\u001b[0;34m(\u001b[0m\u001b[0minput\u001b[0m\u001b[0;34m(\u001b[0m\u001b[0;34m\"Por último, introduzca el número de periodos de pago: \"\u001b[0m\u001b[0;34m)\u001b[0m\u001b[0;34m)\u001b[0m\u001b[0;34m\u001b[0m\u001b[0;34m\u001b[0m\u001b[0m\n\u001b[1;32m      4\u001b[0m \u001b[0;34m\u001b[0m\u001b[0m\n\u001b[1;32m      5\u001b[0m \u001b[0ma\u001b[0m \u001b[0;34m=\u001b[0m \u001b[0;34m(\u001b[0m\u001b[0mc\u001b[0m\u001b[0;34m*\u001b[0m\u001b[0mi\u001b[0m\u001b[0;34m)\u001b[0m \u001b[0;34m/\u001b[0m \u001b[0;34m(\u001b[0m\u001b[0;36m1\u001b[0m\u001b[0;34m-\u001b[0m\u001b[0;34m(\u001b[0m\u001b[0;36m1\u001b[0m\u001b[0;34m/\u001b[0m\u001b[0;34m(\u001b[0m\u001b[0;36m1\u001b[0m\u001b[0;34m+\u001b[0m\u001b[0mi\u001b[0m\u001b[0;34m)\u001b[0m\u001b[0;34m)\u001b[0m\u001b[0;34m**\u001b[0m\u001b[0mn\u001b[0m\u001b[0;34m)\u001b[0m\u001b[0;34m\u001b[0m\u001b[0;34m\u001b[0m\u001b[0m\n",
            "\u001b[0;32m/usr/local/lib/python3.10/dist-packages/ipykernel/kernelbase.py\u001b[0m in \u001b[0;36mraw_input\u001b[0;34m(self, prompt)\u001b[0m\n\u001b[1;32m    849\u001b[0m                 \u001b[0;34m\"raw_input was called, but this frontend does not support input requests.\"\u001b[0m\u001b[0;34m\u001b[0m\u001b[0;34m\u001b[0m\u001b[0m\n\u001b[1;32m    850\u001b[0m             )\n\u001b[0;32m--> 851\u001b[0;31m         return self._input_request(str(prompt),\n\u001b[0m\u001b[1;32m    852\u001b[0m             \u001b[0mself\u001b[0m\u001b[0;34m.\u001b[0m\u001b[0m_parent_ident\u001b[0m\u001b[0;34m,\u001b[0m\u001b[0;34m\u001b[0m\u001b[0;34m\u001b[0m\u001b[0m\n\u001b[1;32m    853\u001b[0m             \u001b[0mself\u001b[0m\u001b[0;34m.\u001b[0m\u001b[0m_parent_header\u001b[0m\u001b[0;34m,\u001b[0m\u001b[0;34m\u001b[0m\u001b[0;34m\u001b[0m\u001b[0m\n",
            "\u001b[0;32m/usr/local/lib/python3.10/dist-packages/ipykernel/kernelbase.py\u001b[0m in \u001b[0;36m_input_request\u001b[0;34m(self, prompt, ident, parent, password)\u001b[0m\n\u001b[1;32m    893\u001b[0m             \u001b[0;32mexcept\u001b[0m \u001b[0mKeyboardInterrupt\u001b[0m\u001b[0;34m:\u001b[0m\u001b[0;34m\u001b[0m\u001b[0;34m\u001b[0m\u001b[0m\n\u001b[1;32m    894\u001b[0m                 \u001b[0;31m# re-raise KeyboardInterrupt, to truncate traceback\u001b[0m\u001b[0;34m\u001b[0m\u001b[0;34m\u001b[0m\u001b[0m\n\u001b[0;32m--> 895\u001b[0;31m                 \u001b[0;32mraise\u001b[0m \u001b[0mKeyboardInterrupt\u001b[0m\u001b[0;34m(\u001b[0m\u001b[0;34m\"Interrupted by user\"\u001b[0m\u001b[0;34m)\u001b[0m \u001b[0;32mfrom\u001b[0m \u001b[0;32mNone\u001b[0m\u001b[0;34m\u001b[0m\u001b[0;34m\u001b[0m\u001b[0m\n\u001b[0m\u001b[1;32m    896\u001b[0m             \u001b[0;32mexcept\u001b[0m \u001b[0mException\u001b[0m \u001b[0;32mas\u001b[0m \u001b[0me\u001b[0m\u001b[0;34m:\u001b[0m\u001b[0;34m\u001b[0m\u001b[0;34m\u001b[0m\u001b[0m\n\u001b[1;32m    897\u001b[0m                 \u001b[0mself\u001b[0m\u001b[0;34m.\u001b[0m\u001b[0mlog\u001b[0m\u001b[0;34m.\u001b[0m\u001b[0mwarning\u001b[0m\u001b[0;34m(\u001b[0m\u001b[0;34m\"Invalid Message:\"\u001b[0m\u001b[0;34m,\u001b[0m \u001b[0mexc_info\u001b[0m\u001b[0;34m=\u001b[0m\u001b[0;32mTrue\u001b[0m\u001b[0;34m)\u001b[0m\u001b[0;34m\u001b[0m\u001b[0;34m\u001b[0m\u001b[0m\n",
            "\u001b[0;31mKeyboardInterrupt\u001b[0m: Interrupted by user"
          ]
        }
      ]
    },
    {
      "cell_type": "markdown",
      "source": [
        "### Ejercicio 9\n",
        "\n",
        "Una tienda que vende por correo tiene dos productos estrella: botes de gel de baño y botes de champú. En cada envío puede haber un número variable de botes de cada tipo. Cada bote de gel de baño pesa 1024 gramos, y cada bote de champú 425 gramos.\n",
        "\n",
        "La caja de cartón en la que se empaquetan los botes pesa 27 gramos. Escriba un\n",
        "programa que pregunte al usuario el número de botes de gel y de champú que van en un envío, y calcule el peso en gramos de dicho envío (incluyendo la caja).\n"
      ],
      "metadata": {
        "id": "KJWMXdPjq2m6"
      }
    },
    {
      "cell_type": "code",
      "source": [
        "gel = int(input(\"Por favor, introduzca los botes de gel que desea: \"))\n",
        "champu = int(input(\"Por favor, introduzca los botes de champu que desea: \"))\n",
        "\n",
        "pesoGel = 1.024\n",
        "pesoChampu = 0.425\n",
        "caja = 0.027\n",
        "\n",
        "pesoTotal = gel * pesoGel + champu * pesoChampu + caja\n",
        "\n",
        "print(f\"El peso total de su pedido es: {pesoTotal} Kg\")"
      ],
      "metadata": {
        "colab": {
          "base_uri": "https://localhost:8080/"
        },
        "id": "d_O7G77iq3Gf",
        "outputId": "15c8327e-9db3-40df-b3dd-1d9cb545d956"
      },
      "execution_count": 17,
      "outputs": [
        {
          "output_type": "stream",
          "name": "stdout",
          "text": [
            "Por favor, introduzca los botes de gel que desea: 5\n",
            "Por favor, introduzca los botes de champu que desea: 2\n",
            "El peso total de su pedido es: 5.997 Kg\n"
          ]
        }
      ]
    }
  ],
  "metadata": {
    "language_info": {
      "name": "python"
    },
    "colab": {
      "provenance": []
    },
    "kernelspec": {
      "name": "python3",
      "display_name": "Python 3"
    }
  },
  "nbformat": 4,
  "nbformat_minor": 0
}