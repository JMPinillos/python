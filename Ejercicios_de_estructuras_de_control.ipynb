{
  "cells": [
    {
      "cell_type": "markdown",
      "source": [
        "# Cuaderno de ejercicios\n",
        "## EJERCICIOS DE ESTRUCTURAS DE CONTROL DE FLUJO\n",
        "### Ejercicio 1:\n",
        "Escribe un programa que pregunte por teclado un número positivo, y que en caso de que el número introducido sea negativo, muestre un mensaje de error. A continuación, debe preguntar por teclado la edad del usuario. Si la edad es mayor o igual que 18 años, debe imprimir un mensaje diciendo que es mayor de edad. En caso contrario, debe imprimir un mensaje diciendo que es menor de edad."
      ],
      "metadata": {
        "id": "L7zbNhqBo7Je"
      }
    },
    {
      "cell_type": "code",
      "execution_count": null,
      "metadata": {
        "id": "ry9OrMOmoWsm",
        "outputId": "38efbc60-437e-4a42-8c4a-81d954d8c4d0",
        "colab": {
          "base_uri": "https://localhost:8080/",
          "height": 365
        }
      },
      "outputs": [
        {
          "output_type": "error",
          "ename": "KeyboardInterrupt",
          "evalue": "Interrupted by user",
          "traceback": [
            "\u001b[0;31m---------------------------------------------------------------------------\u001b[0m",
            "\u001b[0;31mKeyboardInterrupt\u001b[0m                         Traceback (most recent call last)",
            "\u001b[0;32m<ipython-input-47-cc2e74e7fbcb>\u001b[0m in \u001b[0;36m<cell line: 1>\u001b[0;34m()\u001b[0m\n\u001b[0;32m----> 1\u001b[0;31m \u001b[0mpositiveNumber\u001b[0m \u001b[0;34m=\u001b[0m \u001b[0mint\u001b[0m\u001b[0;34m(\u001b[0m\u001b[0minput\u001b[0m\u001b[0;34m(\u001b[0m\u001b[0;34m\"Escriba un número entero positivo: \"\u001b[0m\u001b[0;34m)\u001b[0m\u001b[0;34m)\u001b[0m\u001b[0;34m\u001b[0m\u001b[0;34m\u001b[0m\u001b[0m\n\u001b[0m\u001b[1;32m      2\u001b[0m \u001b[0;34m\u001b[0m\u001b[0m\n\u001b[1;32m      3\u001b[0m \u001b[0;32mif\u001b[0m \u001b[0mpositiveNumber\u001b[0m \u001b[0;34m<\u001b[0m \u001b[0;36m0\u001b[0m\u001b[0;34m:\u001b[0m\u001b[0;34m\u001b[0m\u001b[0;34m\u001b[0m\u001b[0m\n\u001b[1;32m      4\u001b[0m   \u001b[0mprint\u001b[0m\u001b[0;34m(\u001b[0m\u001b[0;34m\"ERROR: NUMERO INCORRECTO!\"\u001b[0m\u001b[0;34m)\u001b[0m\u001b[0;34m\u001b[0m\u001b[0;34m\u001b[0m\u001b[0m\n\u001b[1;32m      5\u001b[0m \u001b[0;32melse\u001b[0m\u001b[0;34m:\u001b[0m\u001b[0;34m\u001b[0m\u001b[0;34m\u001b[0m\u001b[0m\n",
            "\u001b[0;32m/usr/local/lib/python3.10/dist-packages/ipykernel/kernelbase.py\u001b[0m in \u001b[0;36mraw_input\u001b[0;34m(self, prompt)\u001b[0m\n\u001b[1;32m    849\u001b[0m                 \u001b[0;34m\"raw_input was called, but this frontend does not support input requests.\"\u001b[0m\u001b[0;34m\u001b[0m\u001b[0;34m\u001b[0m\u001b[0m\n\u001b[1;32m    850\u001b[0m             )\n\u001b[0;32m--> 851\u001b[0;31m         return self._input_request(str(prompt),\n\u001b[0m\u001b[1;32m    852\u001b[0m             \u001b[0mself\u001b[0m\u001b[0;34m.\u001b[0m\u001b[0m_parent_ident\u001b[0m\u001b[0;34m,\u001b[0m\u001b[0;34m\u001b[0m\u001b[0;34m\u001b[0m\u001b[0m\n\u001b[1;32m    853\u001b[0m             \u001b[0mself\u001b[0m\u001b[0;34m.\u001b[0m\u001b[0m_parent_header\u001b[0m\u001b[0;34m,\u001b[0m\u001b[0;34m\u001b[0m\u001b[0;34m\u001b[0m\u001b[0m\n",
            "\u001b[0;32m/usr/local/lib/python3.10/dist-packages/ipykernel/kernelbase.py\u001b[0m in \u001b[0;36m_input_request\u001b[0;34m(self, prompt, ident, parent, password)\u001b[0m\n\u001b[1;32m    893\u001b[0m             \u001b[0;32mexcept\u001b[0m \u001b[0mKeyboardInterrupt\u001b[0m\u001b[0;34m:\u001b[0m\u001b[0;34m\u001b[0m\u001b[0;34m\u001b[0m\u001b[0m\n\u001b[1;32m    894\u001b[0m                 \u001b[0;31m# re-raise KeyboardInterrupt, to truncate traceback\u001b[0m\u001b[0;34m\u001b[0m\u001b[0;34m\u001b[0m\u001b[0m\n\u001b[0;32m--> 895\u001b[0;31m                 \u001b[0;32mraise\u001b[0m \u001b[0mKeyboardInterrupt\u001b[0m\u001b[0;34m(\u001b[0m\u001b[0;34m\"Interrupted by user\"\u001b[0m\u001b[0;34m)\u001b[0m \u001b[0;32mfrom\u001b[0m \u001b[0;32mNone\u001b[0m\u001b[0;34m\u001b[0m\u001b[0;34m\u001b[0m\u001b[0m\n\u001b[0m\u001b[1;32m    896\u001b[0m             \u001b[0;32mexcept\u001b[0m \u001b[0mException\u001b[0m \u001b[0;32mas\u001b[0m \u001b[0me\u001b[0m\u001b[0;34m:\u001b[0m\u001b[0;34m\u001b[0m\u001b[0;34m\u001b[0m\u001b[0m\n\u001b[1;32m    897\u001b[0m                 \u001b[0mself\u001b[0m\u001b[0;34m.\u001b[0m\u001b[0mlog\u001b[0m\u001b[0;34m.\u001b[0m\u001b[0mwarning\u001b[0m\u001b[0;34m(\u001b[0m\u001b[0;34m\"Invalid Message:\"\u001b[0m\u001b[0;34m,\u001b[0m \u001b[0mexc_info\u001b[0m\u001b[0;34m=\u001b[0m\u001b[0;32mTrue\u001b[0m\u001b[0;34m)\u001b[0m\u001b[0;34m\u001b[0m\u001b[0;34m\u001b[0m\u001b[0m\n",
            "\u001b[0;31mKeyboardInterrupt\u001b[0m: Interrupted by user"
          ]
        }
      ],
      "source": [
        "positiveNumber = int(input(\"Escriba un número entero positivo: \"))\n",
        "\n",
        "if positiveNumber < 0:\n",
        "  print(\"ERROR: NUMERO INCORRECTO!\")\n",
        "else:\n",
        "  print(\"El número es correcto\")\n",
        "\n",
        "age = int(input(\"Escriba su edad: \"))\n",
        "\n",
        "if age >= 18:\n",
        "  print(\"Eres mayor de edad.\")\n",
        "else:\n",
        "  print(\"Eres menor de edad.\")"
      ]
    },
    {
      "cell_type": "markdown",
      "source": [
        "### Ejercicio 2:\n",
        "Escribe un programa que compruebe si un número leído por teclado es positivo,\n",
        "negativo o cero."
      ],
      "metadata": {
        "id": "UkWWPJWvq7Ng"
      }
    },
    {
      "cell_type": "code",
      "source": [
        "number = int(input(\"Escriba un número entero positivo: \"))\n",
        "\n",
        "if number < 0:\n",
        "  print(f\"El número {number} es negativo\")\n",
        "elif number > 0:\n",
        "  print(f\"El número {number} es positivo\")\n",
        "else:\n",
        " print(\"El número introducido es 0\")"
      ],
      "metadata": {
        "id": "nmmXKpgsrFnJ",
        "outputId": "de36c016-3c12-4a53-efee-b562b2208be2",
        "colab": {
          "base_uri": "https://localhost:8080/"
        }
      },
      "execution_count": null,
      "outputs": [
        {
          "output_type": "stream",
          "name": "stdout",
          "text": [
            "Escriba un número entero positivo: 0\n",
            "El número introducido es 0\n"
          ]
        }
      ]
    },
    {
      "cell_type": "markdown",
      "source": [
        "### Ejercicio 3:\n",
        "Escribe un programa que pregunte por teclado un número entero entre el 1 y el 7, ambos inclusive. A continuación, debe imprimir un mensaje mostrando un día de la semana según dicho número: si se escribió el 1, debe imprimir “LUNES”, si se escribió el 2, debe imprimir “MARTES”, y así sucesivamente hasta el 7 (“DOMINGO”). Si se introdujo un número que no esté entre el 1 y el 7, debe imprimir un mensaje de error."
      ],
      "metadata": {
        "id": "0Bz8Id2ir3Kh"
      }
    },
    {
      "cell_type": "code",
      "source": [
        "number = int(input(\"Introduzca un número entre el 1 y el 7: \"))\n",
        "\n",
        "match number:\n",
        "  case 1:\n",
        "    print(\"lunes\")\n",
        "  case 2:\n",
        "    print(\"martes\")\n",
        "  case 3:\n",
        "    print(\"miercoles\")\n",
        "  case 4:\n",
        "    print(\"jueves\")\n",
        "  case 5:\n",
        "    print(\"viernes\")\n",
        "  case 6:\n",
        "    print(\"sábado\")\n",
        "  case 7:\n",
        "    print(\"domingo\")\n",
        "  case _:\n",
        "    print(\"ERROR: NUMERO INCORRECTO!\")"
      ],
      "metadata": {
        "id": "Joz6-FKFr-Mu",
        "outputId": "5cb7d73e-4e25-4d8a-9bc8-6b5b155577b9",
        "colab": {
          "base_uri": "https://localhost:8080/",
          "height": 108
        }
      },
      "execution_count": 1,
      "outputs": [
        {
          "output_type": "error",
          "ename": "SyntaxError",
          "evalue": "invalid syntax (<ipython-input-1-92f4fd513baa>, line 4)",
          "traceback": [
            "\u001b[0;36m  File \u001b[0;32m\"<ipython-input-1-92f4fd513baa>\"\u001b[0;36m, line \u001b[0;32m4\u001b[0m\n\u001b[0;31m    case <= 1:\u001b[0m\n\u001b[0m         ^\u001b[0m\n\u001b[0;31mSyntaxError\u001b[0m\u001b[0;31m:\u001b[0m invalid syntax\n"
          ]
        }
      ]
    },
    {
      "cell_type": "markdown",
      "source": [
        "### Ejercicio 4:\n",
        "Escribe un programa que pregunte por teclado un número entero. A continuación,\n",
        "debe imprimir uno de estos mensajes según el caso: “Es positivo par”, “Es positivo impar”, “Es negativo par”, “Es negativo impar”, “Es cero”."
      ],
      "metadata": {
        "id": "0e-pPtLUvFXn"
      }
    },
    {
      "cell_type": "code",
      "source": [
        "number = int(input(\"Escriba un número entero: \"))\n",
        "\n",
        "if number == 0:\n",
        "  print(\"Es cero\")\n",
        "elif number > 0:\n",
        "  if number % 2:\n",
        "    print(\"Es positivo impar\")\n",
        "  else:\n",
        "    print(\"Es positivo par\")\n",
        "else:\n",
        "  if number % 2:\n",
        "    print(\"Es negativo impar\")\n",
        "  else:\n",
        "    print(\"Es negativo par\")"
      ],
      "metadata": {
        "id": "pWTOLXWYso9c",
        "outputId": "77e1c79d-1744-4b6a-f31a-6ea83e491c39",
        "colab": {
          "base_uri": "https://localhost:8080/"
        }
      },
      "execution_count": 8,
      "outputs": [
        {
          "output_type": "stream",
          "name": "stdout",
          "text": [
            "Escriba un número entero positivo: 10\n",
            "Es positivo par\n"
          ]
        }
      ]
    },
    {
      "cell_type": "markdown",
      "source": [
        "### Ejercicio 5:\n",
        "Escriba un programa que lea un número flotante por teclado, que representa una nota. A continuación, debe imprimir la nota cualitativa según los siguientes intervalos: [0,5) es “suspenso”; [6,7) es “bien”; [7,9) es “notable” y [9,10] es “sobresaliente”. En caso de que el número introducido no se encuentre dentro de ninguno de dichos intervalos, se debe imprimir el mensaje “Nota incorrecta”."
      ],
      "metadata": {
        "id": "sdck7iOBq0JR"
      }
    },
    {
      "cell_type": "code",
      "source": [
        "number = float(input(\"Escriba un número: \"))\n",
        "\n",
        "if 0 <= number < 5:\n",
        "  print(\"suspenso\")\n",
        "elif 6 <= number < 7:\n",
        "  print(\"bien\")\n",
        "elif 7 <= number < 9:\n",
        "  print(\"notable\")\n",
        "elif 9 <= number <=10:\n",
        "  print(\"sobresaliente\")\n",
        "else:\n",
        "  print(\"nota incorrecta\")"
      ],
      "metadata": {
        "id": "L9Xn8D-zq0ij",
        "colab": {
          "base_uri": "https://localhost:8080/"
        },
        "outputId": "70e0bef9-28d1-4112-d307-044e03a5905a"
      },
      "execution_count": 18,
      "outputs": [
        {
          "output_type": "stream",
          "name": "stdout",
          "text": [
            "Escriba un número: 10\n",
            "sobresaliente\n"
          ]
        }
      ]
    },
    {
      "cell_type": "markdown",
      "source": [
        "### Ejercicio 6:\n",
        "Escribe un programa en Python que compruebe si una cadena introducida por teclado es un palíndromo."
      ],
      "metadata": {
        "id": "zmzfH4RHq0yi"
      }
    },
    {
      "cell_type": "code",
      "source": [
        "text = input(\"Escriba una palabra: \")\n",
        "\n",
        "if text == text [::-1]:\n",
        "  print(\"Es un palíndromo\")\n",
        "else:\n",
        "  print(\"No es un palíndromo\")"
      ],
      "metadata": {
        "colab": {
          "base_uri": "https://localhost:8080/",
          "height": 108
        },
        "id": "G0wq19Anq1GR",
        "outputId": "68a1cd8b-0b75-4d6b-efb9-d3860bf9550f"
      },
      "execution_count": 25,
      "outputs": [
        {
          "output_type": "error",
          "ename": "SyntaxError",
          "evalue": "invalid syntax. Maybe you meant '==' or ':=' instead of '='? (<ipython-input-25-23aa56e9433b>, line 3)",
          "traceback": [
            "\u001b[0;36m  File \u001b[0;32m\"<ipython-input-25-23aa56e9433b>\"\u001b[0;36m, line \u001b[0;32m3\u001b[0m\n\u001b[0;31m    if text = text [::-1]:\u001b[0m\n\u001b[0m       ^\u001b[0m\n\u001b[0;31mSyntaxError\u001b[0m\u001b[0;31m:\u001b[0m invalid syntax. Maybe you meant '==' or ':=' instead of '='?\n"
          ]
        }
      ]
    },
    {
      "cell_type": "markdown",
      "source": [
        "### Ejercicio 7:\n",
        "Escriba un programa que determine si un año es bisiesto."
      ],
      "metadata": {
        "id": "j2oEq6nAJlzx"
      }
    },
    {
      "cell_type": "code",
      "source": [
        "year = int(input(\"Escriba un año: \"))\n",
        "\n",
        "if (year % 4 == 0 & (year % 100 != 0 | year % 400 == 0)):\n",
        "  print(f\"El año {year} es bisiesto\")\n",
        "else:\n",
        "  print(f\"El año {year} no es bisiesto\")\n"
      ],
      "metadata": {
        "colab": {
          "base_uri": "https://localhost:8080/"
        },
        "id": "3aX58M0hJmKh",
        "outputId": "e4172519-9248-4884-df6c-de0ff1e7ed04"
      },
      "execution_count": 32,
      "outputs": [
        {
          "output_type": "stream",
          "name": "stdout",
          "text": [
            "Escriba un año: 1985\n",
            "El año 1985 no es bisiesto\n"
          ]
        }
      ]
    },
    {
      "cell_type": "markdown",
      "source": [
        "### Ejercicio 8\n",
        "Escriba un programa que encuentre el mayor de tres números introducidos por\n",
        "teclado."
      ],
      "metadata": {
        "id": "U-fOjXWCJmXT"
      }
    },
    {
      "cell_type": "code",
      "source": [
        "number1 = float(input(\"Escriba un número: \"))\n",
        "number2 = float(input(\"Escriba otro número: \"))\n",
        "number3 = float(input(\"Escriba un número más: \"))\n",
        "\n",
        "if number1 > number2 and number1 > number3:\n",
        "  print(f\"El número {number1} es el mayor\")\n",
        "elif number2 > number3:\n",
        "  print(f\"El número {number2} es el mayor\")\n",
        "else:\n",
        "  print(f\"El número {number3} es el mayor\")"
      ],
      "metadata": {
        "colab": {
          "base_uri": "https://localhost:8080/"
        },
        "id": "SWvyu0lWJmtJ",
        "outputId": "663c280d-72a2-4463-977f-12c1792fcf86"
      },
      "execution_count": 41,
      "outputs": [
        {
          "output_type": "stream",
          "name": "stdout",
          "text": [
            "Escriba un número: -10\n",
            "Escriba otro número: -5.5\n",
            "Escriba un número más: 0\n",
            "El número 0.0 es el mayor\n"
          ]
        }
      ]
    },
    {
      "cell_type": "markdown",
      "source": [
        "### Ejercicio 9:\n",
        "Escribe un programa en Python que imprima por pantalla los cuadrados de los 30\n",
        "primeros números naturales."
      ],
      "metadata": {
        "id": "H6DM-i1sJm6G"
      }
    },
    {
      "cell_type": "code",
      "source": [
        "for i in range(1,31):\n",
        "  print (i**2)"
      ],
      "metadata": {
        "colab": {
          "base_uri": "https://localhost:8080/"
        },
        "id": "P2A2sYzOJnnB",
        "outputId": "b5217577-8ffc-40f5-a184-805b31df43e3"
      },
      "execution_count": 48,
      "outputs": [
        {
          "output_type": "stream",
          "name": "stdout",
          "text": [
            "1\n",
            "4\n",
            "9\n",
            "16\n",
            "25\n",
            "36\n",
            "49\n",
            "64\n",
            "81\n",
            "100\n",
            "121\n",
            "144\n",
            "169\n",
            "196\n",
            "225\n",
            "256\n",
            "289\n",
            "324\n",
            "361\n",
            "400\n",
            "441\n",
            "484\n",
            "529\n",
            "576\n",
            "625\n",
            "676\n",
            "729\n",
            "784\n",
            "841\n",
            "900\n"
          ]
        }
      ]
    },
    {
      "cell_type": "markdown",
      "source": [
        "### Ejercicio 10:\n",
        "Escribe un programa en Python que lea dos números enteros por teclado. Después\n",
        "debe imprimir por pantalla todos los números múltiplos de 7 que haya entre los dos números tecleados."
      ],
      "metadata": {
        "id": "Dab-_cnzJn-W"
      }
    },
    {
      "cell_type": "code",
      "source": [
        "number1 = int(input(\"Escriba un número: \"))\n",
        "number2 = int(input(\"Escriba otro número: \"))\n",
        "\n",
        "for i in range(number1, number2+1): # Con el \"+1\" incluimos el segundo número\n",
        "  if i % 7 == 0:\n",
        "    print (i)"
      ],
      "metadata": {
        "colab": {
          "base_uri": "https://localhost:8080/"
        },
        "id": "NhA-PgKiJoSu",
        "outputId": "d8d2c312-3f8e-42fe-cc9d-e01d0de3d0f1"
      },
      "execution_count": 60,
      "outputs": [
        {
          "output_type": "stream",
          "name": "stdout",
          "text": [
            "Escriba un número: 1\n",
            "Escriba otro número: 100\n",
            "7\n",
            "14\n",
            "21\n",
            "28\n",
            "35\n",
            "42\n",
            "49\n",
            "56\n",
            "63\n",
            "70\n",
            "77\n",
            "84\n",
            "91\n",
            "98\n"
          ]
        }
      ]
    },
    {
      "cell_type": "markdown",
      "source": [
        "### Ejercicio 11:\n",
        "Escribe un programa en Python que lea un número entero positivo por teclado.\n",
        "Después debe imprimir un mensaje indicando si ese número es primo."
      ],
      "metadata": {
        "id": "KkAxakxfJojE"
      }
    },
    {
      "cell_type": "code",
      "source": [
        "number = int(input(\"Escriba un número: \"))\n",
        "\n",
        "if number <= 0:\n",
        " print(\"ingrese un numero mayor que 0\")\n",
        "else:\n",
        "  primo = True\n",
        "\n",
        "  for i in range(2, number):\n",
        "    if number % i == 0:\n",
        "      primo = False\n",
        "\n",
        "  if primo == True:\n",
        "    print(\"EL NUMERO ES PRIMO\")\n",
        "  else:\n",
        "    print(\"EL NUMERO NO ES PRIMO\")"
      ],
      "metadata": {
        "colab": {
          "base_uri": "https://localhost:8080/"
        },
        "id": "4W9yYKqXJo52",
        "outputId": "199f729f-97e3-48d4-8f85-64789ea7dcdf"
      },
      "execution_count": 70,
      "outputs": [
        {
          "output_type": "stream",
          "name": "stdout",
          "text": [
            "Escriba un número: 23\n",
            "EL NUMERO ES PRIMO\n"
          ]
        }
      ]
    },
    {
      "cell_type": "markdown",
      "source": [
        "### Ejercicio 12:\n",
        "Escribe un programa en Python que lea un número entero n por teclado. A\n",
        "continuación, debe imprimir el primer número entero mayor o igual que $n$ que sea múltiplo de 13."
      ],
      "metadata": {
        "id": "3fKWYafAVl2q"
      }
    },
    {
      "cell_type": "code",
      "source": [
        "number = int(input(\"Escriba un número: \"))\n",
        "\n",
        "search = False\n",
        "\n",
        "while not search:\n",
        "  if number % 13 == 0 :\n",
        "    search = True\n",
        "  else:\n",
        "    number += 1\n",
        "\n",
        "print(str(number))"
      ],
      "metadata": {
        "colab": {
          "base_uri": "https://localhost:8080/"
        },
        "id": "U7WcxjSMVmLv",
        "outputId": "81499ea8-40fd-4372-b978-c84b8de8796b"
      },
      "execution_count": 82,
      "outputs": [
        {
          "output_type": "stream",
          "name": "stdout",
          "text": [
            "Escriba un número: 25\n",
            "26\n"
          ]
        }
      ]
    },
    {
      "cell_type": "markdown",
      "source": [
        "### Ejercicio 13:\n",
        "Escribe un programa en Python para contar el número de caracteres, excluidos los espacios, en una cadena introducida por teclado."
      ],
      "metadata": {
        "id": "X4yfHKMCVmc9"
      }
    },
    {
      "cell_type": "code",
      "source": [
        "text = input(\"Escriba un texto: \")\n",
        "\n",
        "print(len(text.replace(\" \", \"\")))"
      ],
      "metadata": {
        "colab": {
          "base_uri": "https://localhost:8080/"
        },
        "id": "HmZ4CAbLVmym",
        "outputId": "6ea0a76a-cf7d-4a0d-8abc-f733ec488930"
      },
      "execution_count": 96,
      "outputs": [
        {
          "output_type": "stream",
          "name": "stdout",
          "text": [
            "Escriba un texto: hola hola\n",
            "8\n"
          ]
        }
      ]
    },
    {
      "cell_type": "markdown",
      "source": [
        "### Ejercicio 14:\n",
        "Escribe un programa en Python para eliminar todas las vocales de una cadena\n",
        "introducida por teclado."
      ],
      "metadata": {
        "id": "PG9EJbImVnCM"
      }
    },
    {
      "cell_type": "code",
      "source": [
        "# Primera solución:\n",
        "\n",
        "text = input(\"Escriba un texto: \")\n",
        "\n",
        "vowels = ['a', 'e', 'i', 'o', 'u', 'A', 'E', 'I', 'O', 'U']\n",
        "\n",
        "for i in vowels:\n",
        "  text = text.replace(i, \"\")\n",
        "\n",
        "print(\"Texto sin vocales:\", text)"
      ],
      "metadata": {
        "colab": {
          "base_uri": "https://localhost:8080/"
        },
        "id": "9_4H2e5PVnbX",
        "outputId": "c45e8302-c482-46f4-c049-78d5aae6dd30"
      },
      "execution_count": 114,
      "outputs": [
        {
          "output_type": "stream",
          "name": "stdout",
          "text": [
            "Escriba un texto: hoola KASDFO\n",
            "Texto sin vocales:  hl KSDF\n"
          ]
        }
      ]
    },
    {
      "cell_type": "code",
      "source": [
        "# Segunda solución:\n",
        "\n",
        "text = input(\"Escriba un texto: \")\n",
        "vowels = 'aeiouAEIOU'\n",
        "cadena_sin_vocales = \"\"\n",
        "\n",
        "for i in text:\n",
        "  if i not in vowels:\n",
        "    cadena_sin_vocales += i\n",
        "\n",
        "print(\"Cadena sin vocales:\", cadena_sin_vocales)"
      ],
      "metadata": {
        "colab": {
          "base_uri": "https://localhost:8080/"
        },
        "id": "G-IQ0-FucgFN",
        "outputId": "6d89b499-5c3b-4b2e-a144-64c08ab36efd"
      },
      "execution_count": 117,
      "outputs": [
        {
          "output_type": "stream",
          "name": "stdout",
          "text": [
            "Escriba un texto: hola\n",
            "Cadena sin vocales: hl\n"
          ]
        }
      ]
    },
    {
      "cell_type": "markdown",
      "source": [
        "### Ejercicio 15:\n",
        "Escriba un programa para imprimir todos los números primos entre $a$ y $b$, siendo $a$ y $b$ números enteros introducidos por teclado."
      ],
      "metadata": {
        "id": "tA3LeTfEeFKE"
      }
    },
    {
      "cell_type": "code",
      "source": [
        "number1 = int(input(\"Escriba un número: \"))\n",
        "number2 = int(input(\"Escriba otro número: \"))\n",
        "\n",
        "if number <= 0:\n",
        " print(\"ingrese un numero mayor que 0\")\n",
        "else:\n",
        "\n",
        "  print(\"Los números primos entre \", number1, \" y \", number2, \" son: \")\n",
        "\n",
        "  for number in range(number1, number2 + 1):\n",
        "    if number > 1:\n",
        "      es_primo = True\n",
        "\n",
        "      for i in range(2, number):\n",
        "        if (number % i) == 0:\n",
        "          es_primo = False\n",
        "\n",
        "      if es_primo:\n",
        "        print(number)"
      ],
      "metadata": {
        "colab": {
          "base_uri": "https://localhost:8080/"
        },
        "id": "BK8zr4VpeFrh",
        "outputId": "6abd91d4-8159-48da-da85-3ac63f70d494"
      },
      "execution_count": 135,
      "outputs": [
        {
          "output_type": "stream",
          "name": "stdout",
          "text": [
            "Escriba un número: 1\n",
            "Escriba otro número: 10\n",
            "Los números primos entre  1  y  10  son: \n",
            "2\n",
            "3\n",
            "5\n",
            "7\n"
          ]
        }
      ]
    },
    {
      "cell_type": "markdown",
      "source": [
        "### Ejercicio 16:\n",
        "Escriba un programa para generar la sucesión de Fibonacci hasta un número de\n",
        "términos introducido por teclado."
      ],
      "metadata": {
        "id": "EC0nTJ0feF7Z"
      }
    },
    {
      "cell_type": "code",
      "source": [
        "number = int(input(\"Escriba un número: \"))\n",
        "a = 0\n",
        "b = 1\n",
        "count = 0\n",
        "\n",
        "if number <= 0:\n",
        "  print(\"Por favor, introduzca un número entero positivo mayor que 0.\")\n",
        "elif number == 1:\n",
        "  print(\"Sucesión de Fibonacci: \")\n",
        "  print(a)\n",
        "else:\n",
        "  print(\"Sucesión de Fibonacci:\")\n",
        "\n",
        "  while count < number:\n",
        "    print(a, end=\" \")\n",
        "    n_esimo = a + b\n",
        "    a = b\n",
        "    b = n_esimo\n",
        "    count += 1\n",
        ""
      ],
      "metadata": {
        "colab": {
          "base_uri": "https://localhost:8080/"
        },
        "id": "Upt1jujteGXv",
        "outputId": "5f04ca3e-c489-4d9a-a51f-b129774de133"
      },
      "execution_count": 142,
      "outputs": [
        {
          "output_type": "stream",
          "name": "stdout",
          "text": [
            "Escriba un número: 15\n",
            "Sucesión de Fibonacci:\n",
            "0 1 1 2 3 5 8 13 21 34 55 89 144 233 377 "
          ]
        }
      ]
    },
    {
      "cell_type": "markdown",
      "source": [
        "El código `print(a, end=\" \")` en Python imprime el valor de la variable `a` seguido de un espacio en lugar de un salto de línea. Normalmente, la función `print()` termina con un salto de línea (`\\n`), pero al usar el parámetro `end`, puedes especificar un carácter o cadena diferente para terminar la salida. Esto es útil cuando quieres imprimir varios elementos en la misma línea."
      ],
      "metadata": {
        "id": "4_MZf1s_l6tc"
      }
    }
  ],
  "metadata": {
    "language_info": {
      "name": "python"
    },
    "colab": {
      "provenance": [],
      "toc_visible": true
    },
    "kernelspec": {
      "name": "python3",
      "display_name": "Python 3"
    }
  },
  "nbformat": 4,
  "nbformat_minor": 0
}