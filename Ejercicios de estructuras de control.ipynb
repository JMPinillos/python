{
  "cells": [
    {
      "cell_type": "markdown",
      "source": [
        "# Cuaderno de ejercicios\n",
        "## EJERCICIOS DE ESTRUCTURAS DE CONTROL DE FLUJO\n",
        "### Ejercicio 1:\n",
        "Escribe un programa que pregunte por teclado un número positivo, y que en caso de que el número introducido sea negativo, muestre un mensaje de error. A continuación, debe preguntar por teclado la edad del usuario. Si la edad es mayor o igual que 18 años, debe imprimir un mensaje diciendo que es mayor de edad. En caso contrario, debe imprimir un mensaje diciendo que es menor de edad."
      ],
      "metadata": {
        "id": "L7zbNhqBo7Je"
      }
    },
    {
      "cell_type": "code",
      "execution_count": 47,
      "metadata": {
        "id": "ry9OrMOmoWsm",
        "outputId": "38efbc60-437e-4a42-8c4a-81d954d8c4d0",
        "colab": {
          "base_uri": "https://localhost:8080/",
          "height": 365
        }
      },
      "outputs": [
        {
          "output_type": "error",
          "ename": "KeyboardInterrupt",
          "evalue": "Interrupted by user",
          "traceback": [
            "\u001b[0;31m---------------------------------------------------------------------------\u001b[0m",
            "\u001b[0;31mKeyboardInterrupt\u001b[0m                         Traceback (most recent call last)",
            "\u001b[0;32m<ipython-input-47-cc2e74e7fbcb>\u001b[0m in \u001b[0;36m<cell line: 1>\u001b[0;34m()\u001b[0m\n\u001b[0;32m----> 1\u001b[0;31m \u001b[0mpositiveNumber\u001b[0m \u001b[0;34m=\u001b[0m \u001b[0mint\u001b[0m\u001b[0;34m(\u001b[0m\u001b[0minput\u001b[0m\u001b[0;34m(\u001b[0m\u001b[0;34m\"Escriba un número entero positivo: \"\u001b[0m\u001b[0;34m)\u001b[0m\u001b[0;34m)\u001b[0m\u001b[0;34m\u001b[0m\u001b[0;34m\u001b[0m\u001b[0m\n\u001b[0m\u001b[1;32m      2\u001b[0m \u001b[0;34m\u001b[0m\u001b[0m\n\u001b[1;32m      3\u001b[0m \u001b[0;32mif\u001b[0m \u001b[0mpositiveNumber\u001b[0m \u001b[0;34m<\u001b[0m \u001b[0;36m0\u001b[0m\u001b[0;34m:\u001b[0m\u001b[0;34m\u001b[0m\u001b[0;34m\u001b[0m\u001b[0m\n\u001b[1;32m      4\u001b[0m   \u001b[0mprint\u001b[0m\u001b[0;34m(\u001b[0m\u001b[0;34m\"ERROR: NUMERO INCORRECTO!\"\u001b[0m\u001b[0;34m)\u001b[0m\u001b[0;34m\u001b[0m\u001b[0;34m\u001b[0m\u001b[0m\n\u001b[1;32m      5\u001b[0m \u001b[0;32melse\u001b[0m\u001b[0;34m:\u001b[0m\u001b[0;34m\u001b[0m\u001b[0;34m\u001b[0m\u001b[0m\n",
            "\u001b[0;32m/usr/local/lib/python3.10/dist-packages/ipykernel/kernelbase.py\u001b[0m in \u001b[0;36mraw_input\u001b[0;34m(self, prompt)\u001b[0m\n\u001b[1;32m    849\u001b[0m                 \u001b[0;34m\"raw_input was called, but this frontend does not support input requests.\"\u001b[0m\u001b[0;34m\u001b[0m\u001b[0;34m\u001b[0m\u001b[0m\n\u001b[1;32m    850\u001b[0m             )\n\u001b[0;32m--> 851\u001b[0;31m         return self._input_request(str(prompt),\n\u001b[0m\u001b[1;32m    852\u001b[0m             \u001b[0mself\u001b[0m\u001b[0;34m.\u001b[0m\u001b[0m_parent_ident\u001b[0m\u001b[0;34m,\u001b[0m\u001b[0;34m\u001b[0m\u001b[0;34m\u001b[0m\u001b[0m\n\u001b[1;32m    853\u001b[0m             \u001b[0mself\u001b[0m\u001b[0;34m.\u001b[0m\u001b[0m_parent_header\u001b[0m\u001b[0;34m,\u001b[0m\u001b[0;34m\u001b[0m\u001b[0;34m\u001b[0m\u001b[0m\n",
            "\u001b[0;32m/usr/local/lib/python3.10/dist-packages/ipykernel/kernelbase.py\u001b[0m in \u001b[0;36m_input_request\u001b[0;34m(self, prompt, ident, parent, password)\u001b[0m\n\u001b[1;32m    893\u001b[0m             \u001b[0;32mexcept\u001b[0m \u001b[0mKeyboardInterrupt\u001b[0m\u001b[0;34m:\u001b[0m\u001b[0;34m\u001b[0m\u001b[0;34m\u001b[0m\u001b[0m\n\u001b[1;32m    894\u001b[0m                 \u001b[0;31m# re-raise KeyboardInterrupt, to truncate traceback\u001b[0m\u001b[0;34m\u001b[0m\u001b[0;34m\u001b[0m\u001b[0m\n\u001b[0;32m--> 895\u001b[0;31m                 \u001b[0;32mraise\u001b[0m \u001b[0mKeyboardInterrupt\u001b[0m\u001b[0;34m(\u001b[0m\u001b[0;34m\"Interrupted by user\"\u001b[0m\u001b[0;34m)\u001b[0m \u001b[0;32mfrom\u001b[0m \u001b[0;32mNone\u001b[0m\u001b[0;34m\u001b[0m\u001b[0;34m\u001b[0m\u001b[0m\n\u001b[0m\u001b[1;32m    896\u001b[0m             \u001b[0;32mexcept\u001b[0m \u001b[0mException\u001b[0m \u001b[0;32mas\u001b[0m \u001b[0me\u001b[0m\u001b[0;34m:\u001b[0m\u001b[0;34m\u001b[0m\u001b[0;34m\u001b[0m\u001b[0m\n\u001b[1;32m    897\u001b[0m                 \u001b[0mself\u001b[0m\u001b[0;34m.\u001b[0m\u001b[0mlog\u001b[0m\u001b[0;34m.\u001b[0m\u001b[0mwarning\u001b[0m\u001b[0;34m(\u001b[0m\u001b[0;34m\"Invalid Message:\"\u001b[0m\u001b[0;34m,\u001b[0m \u001b[0mexc_info\u001b[0m\u001b[0;34m=\u001b[0m\u001b[0;32mTrue\u001b[0m\u001b[0;34m)\u001b[0m\u001b[0;34m\u001b[0m\u001b[0;34m\u001b[0m\u001b[0m\n",
            "\u001b[0;31mKeyboardInterrupt\u001b[0m: Interrupted by user"
          ]
        }
      ],
      "source": [
        "positiveNumber = int(input(\"Escriba un número entero positivo: \"))\n",
        "\n",
        "if positiveNumber < 0:\n",
        "  print(\"ERROR: NUMERO INCORRECTO!\")\n",
        "else:\n",
        "  print(\"El número es correcto\")\n",
        "\n",
        "age = int(input(\"Escriba su edad: \"))\n",
        "\n",
        "if age >= 18:\n",
        "  print(\"Eres mayor de edad.\")\n",
        "else:\n",
        "  print(\"Eres menor de edad.\")"
      ]
    },
    {
      "cell_type": "markdown",
      "source": [
        "### Ejercicio 2:\n",
        "Escribe un programa que compruebe si un número leído por teclado es positivo,\n",
        "negativo o cero."
      ],
      "metadata": {
        "id": "UkWWPJWvq7Ng"
      }
    },
    {
      "cell_type": "code",
      "source": [
        "number = int(input(\"Escriba un número entero positivo: \"))\n",
        "\n",
        "if number < 0:\n",
        "  print(f\"El número {number} es negativo\")\n",
        "elif number > 0:\n",
        "  print(f\"El número {number} es positivo\")\n",
        "else:\n",
        " print(\"El número introducido es 0\")"
      ],
      "metadata": {
        "id": "nmmXKpgsrFnJ",
        "outputId": "de36c016-3c12-4a53-efee-b562b2208be2",
        "colab": {
          "base_uri": "https://localhost:8080/"
        }
      },
      "execution_count": 51,
      "outputs": [
        {
          "output_type": "stream",
          "name": "stdout",
          "text": [
            "Escriba un número entero positivo: 0\n",
            "El número introducido es 0\n"
          ]
        }
      ]
    },
    {
      "cell_type": "markdown",
      "source": [
        "### Ejercicio 3:\n",
        "Escribe un programa que pregunte por teclado un número entero entre el 1 y el 7, ambos inclusive. A continuación, debe imprimir un mensaje mostrando un día de la semana según dicho número: si se escribió el 1, debe imprimir “LUNES”, si se escribió el 2, debe imprimir “MARTES”, y así sucesivamente hasta el 7 (“DOMINGO”). Si se introdujo un número que no esté entre el 1 y el 7, debe imprimir un mensaje de error."
      ],
      "metadata": {
        "id": "0Bz8Id2ir3Kh"
      }
    },
    {
      "cell_type": "code",
      "source": [
        "number = int(input(\"Introduzca un número entre el 1 y el 7: \"))\n",
        "\n",
        "match number:\n",
        "  case 1:\n",
        "    print(\"lunes\")\n",
        "  case 2:\n",
        "    print(\"martes\")\n",
        "  case 3:\n",
        "    print(\"miercoles\")\n",
        "  case 4:\n",
        "    print(\"jueves\")\n",
        "  case 5:\n",
        "    print(\"viernes\")\n",
        "  case 6:\n",
        "    print(\"sábado\")\n",
        "  case 7:\n",
        "    print(\"domingo\")\n",
        "  case _:\n",
        "    print(\"ERROR: NUMERO INCORRECTO!\")"
      ],
      "metadata": {
        "id": "Joz6-FKFr-Mu",
        "outputId": "8569529e-c3a9-498b-bf4f-e7391678d1bd",
        "colab": {
          "base_uri": "https://localhost:8080/"
        }
      },
      "execution_count": 62,
      "outputs": [
        {
          "output_type": "stream",
          "name": "stdout",
          "text": [
            "Introduzca un número entre el 1 y el 7: 7\n",
            "domingo\n"
          ]
        }
      ]
    },
    {
      "cell_type": "markdown",
      "source": [
        "### Ejercicio 4:\n",
        "Escribe un programa que pregunte por teclado un número entero. A continuación,\n",
        "debe imprimir uno de estos mensajes según el caso: “Es positivo par”, “Es positivo impar”, “Es negativo par”, “Es negativo impar”, “Es cero”."
      ],
      "metadata": {
        "id": "0e-pPtLUvFXn"
      }
    },
    {
      "cell_type": "code",
      "source": [
        "text = input(\"Escriba un texto: \")\n",
        "conjunto_text = set(text)\n",
        "\n",
        "print(len(conjunto_text))"
      ],
      "metadata": {
        "id": "pWTOLXWYso9c",
        "outputId": "6c1dec73-581a-4713-9f20-d6d037dbc172",
        "colab": {
          "base_uri": "https://localhost:8080/"
        }
      },
      "execution_count": 21,
      "outputs": [
        {
          "output_type": "stream",
          "name": "stdout",
          "text": [
            "Escriba un texto: hola caracola\n",
            "7\n"
          ]
        }
      ]
    },
    {
      "cell_type": "markdown",
      "source": [
        "### Ejercicio 5:\n",
        "Escriba un programa que lea un número flotante por teclado, que representa una nota. A continuación, debe imprimir la nota cualitativa según los siguientes intervalos: [0,5) es “suspenso”; [6,7) es “bien”; [7,9) es “notable” y [9,10] es “sobresaliente”. En caso de que el número introducido no se encuentre dentro de ninguno de dichos intervalos, se debe imprimir el mensaje “Nota incorrecta”."
      ],
      "metadata": {
        "id": "sdck7iOBq0JR"
      }
    },
    {
      "cell_type": "code",
      "source": [
        "text1 = \"El que a buen árbol se arrima\"\n",
        "text2 = \"buena sombra le cobija\"\n",
        "\n",
        "conjunto_text1 = set(text1)\n",
        "conjunto_text2 = set(text2)\n",
        "\n",
        "print(conjunto_text1 - conjunto_text2)"
      ],
      "metadata": {
        "id": "L9Xn8D-zq0ij",
        "colab": {
          "base_uri": "https://localhost:8080/"
        },
        "outputId": "abf049ff-0557-4785-a3dc-650dfc158edb"
      },
      "execution_count": 26,
      "outputs": [
        {
          "output_type": "stream",
          "name": "stdout",
          "text": [
            "{'q', 'E', 'á'}\n"
          ]
        }
      ]
    },
    {
      "cell_type": "markdown",
      "source": [
        "### Ejercicio 6:\n",
        "Escribe un programa en Python que compruebe si una cadena introducida por teclado es un palíndromo."
      ],
      "metadata": {
        "id": "zmzfH4RHq0yi"
      }
    },
    {
      "cell_type": "code",
      "source": [
        "lista1 = [4, 6, 2, 8, 11, 9, 3, 5, 8]\n",
        "lista2 = [14, 9, 7, 0, 11, 16, 3, 15, 13]\n",
        "lista3 = [9, 88, 2, 1, 0, 9, 3, 25, 7]\n",
        "\n",
        "conjunto_lista1 = set(lista1)\n",
        "conjunto_lista2 = set(lista2)\n",
        "conjunto_lista3 = set(lista3)\n",
        "\n",
        "print(conjunto_lista1 & conjunto_lista2 & conjunto_lista3)"
      ],
      "metadata": {
        "colab": {
          "base_uri": "https://localhost:8080/"
        },
        "id": "G0wq19Anq1GR",
        "outputId": "4f0cd3b5-7fd7-4137-abf8-49ce2bb8b231"
      },
      "execution_count": 36,
      "outputs": [
        {
          "output_type": "stream",
          "name": "stdout",
          "text": [
            "{9, 3}\n",
            "{9, 3}\n"
          ]
        }
      ]
    }
  ],
  "metadata": {
    "language_info": {
      "name": "python"
    },
    "colab": {
      "provenance": [],
      "toc_visible": true
    },
    "kernelspec": {
      "name": "python3",
      "display_name": "Python 3"
    }
  },
  "nbformat": 4,
  "nbformat_minor": 0
}