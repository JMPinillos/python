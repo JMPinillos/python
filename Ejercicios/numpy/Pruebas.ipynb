{
 "cells": [
  {
   "cell_type": "markdown",
   "id": "0b9bf74c-efaf-4b5d-9eb1-cc56a9889630",
   "metadata": {},
   "source": [
    "Importamos numpy"
   ]
  },
  {
   "cell_type": "code",
   "execution_count": 1,
   "id": "43907930-c168-445d-a3c1-ca2931440a62",
   "metadata": {},
   "outputs": [],
   "source": [
    "import numpy as np"
   ]
  },
  {
   "cell_type": "markdown",
   "id": "d04f5622-3344-4b05-88c3-9cdc495e07b3",
   "metadata": {},
   "source": [
    "Creamos un array n_dimensional"
   ]
  },
  {
   "cell_type": "code",
   "execution_count": 2,
   "id": "6839374b-d854-4b81-b201-047df2ea72a5",
   "metadata": {},
   "outputs": [],
   "source": [
    "x = np.array([1, 2, 3, 4, 5])"
   ]
  },
  {
   "cell_type": "code",
   "execution_count": 3,
   "id": "51588876-49d5-48f9-b6bd-2f3f11d78347",
   "metadata": {},
   "outputs": [
    {
     "data": {
      "text/plain": [
       "array([1, 2, 3, 4, 5])"
      ]
     },
     "execution_count": 3,
     "metadata": {},
     "output_type": "execute_result"
    }
   ],
   "source": [
    "x"
   ]
  },
  {
   "cell_type": "code",
   "execution_count": 5,
   "id": "dfbe6f84-534d-48b6-b57f-e9da0b993f85",
   "metadata": {},
   "outputs": [
    {
     "data": {
      "text/plain": [
       "1"
      ]
     },
     "execution_count": 5,
     "metadata": {},
     "output_type": "execute_result"
    }
   ],
   "source": [
    "x.ndim"
   ]
  },
  {
   "cell_type": "code",
   "execution_count": 10,
   "id": "ec72e9e5-7e75-41ce-96cf-3d88905b447f",
   "metadata": {},
   "outputs": [
    {
     "name": "stdout",
     "output_type": "stream",
     "text": [
      "292 ms ± 63.7 ms per loop (mean ± std. dev. of 7 runs, 1 loop each)\n",
      "5.05 ms ± 463 μs per loop (mean ± std. dev. of 7 runs, 100 loops each)\n"
     ]
    }
   ],
   "source": [
    "array_as_list = list(range(int(10e6)))\n",
    "array_as_ndarray = np.array(array_as_list)\n",
    "%timeit sum(array_as_list)\n",
    "%timeit array_as_ndarray.sum()"
   ]
  },
  {
   "cell_type": "code",
   "execution_count": 13,
   "id": "81926744-ad73-4688-b6ee-0d748ee8234d",
   "metadata": {},
   "outputs": [],
   "source": [
    "array1 = np.array([88, 23, 39, 41])\n",
    "array2 = np.array([[76.4, 21.7, 38.4],[41.2, 52.8, 68.9]])\n",
    "array3 = np.array([[12],[4],[9],[8]])"
   ]
  },
  {
   "cell_type": "code",
   "execution_count": 26,
   "id": "5613377f-e4fb-4aa4-a823-c176e361bdf0",
   "metadata": {},
   "outputs": [
    {
     "data": {
      "text/plain": [
       "1"
      ]
     },
     "execution_count": 26,
     "metadata": {},
     "output_type": "execute_result"
    }
   ],
   "source": [
    "array1.ndim"
   ]
  },
  {
   "cell_type": "code",
   "execution_count": 19,
   "id": "a7c7c0e6-bc60-458f-8c1b-3c94773cb0b2",
   "metadata": {},
   "outputs": [
    {
     "data": {
      "text/plain": [
       "4"
      ]
     },
     "execution_count": 19,
     "metadata": {},
     "output_type": "execute_result"
    }
   ],
   "source": [
    "array1.size"
   ]
  },
  {
   "cell_type": "code",
   "execution_count": 20,
   "id": "34820555-9de1-4b71-89dc-e8eb7671360c",
   "metadata": {},
   "outputs": [
    {
     "data": {
      "text/plain": [
       "(4,)"
      ]
     },
     "execution_count": 20,
     "metadata": {},
     "output_type": "execute_result"
    }
   ],
   "source": [
    "array1.shape"
   ]
  },
  {
   "cell_type": "code",
   "execution_count": 21,
   "id": "dfd3e24d-4d50-4a8e-95ef-7b85cabd5b76",
   "metadata": {},
   "outputs": [
    {
     "data": {
      "text/plain": [
       "dtype('int32')"
      ]
     },
     "execution_count": 21,
     "metadata": {},
     "output_type": "execute_result"
    }
   ],
   "source": [
    "array1.dtype"
   ]
  },
  {
   "cell_type": "code",
   "execution_count": 24,
   "id": "4cfa28b6-c927-4170-8ad6-0b8e728da1ce",
   "metadata": {},
   "outputs": [
    {
     "name": "stdout",
     "output_type": "stream",
     "text": [
      "[88 23 39 41]\n",
      "[[76.4 21.7 38.4]\n",
      " [41.2 52.8 68.9]]\n"
     ]
    }
   ],
   "source": [
    "print(array1)\n",
    "print(array2)"
   ]
  },
  {
   "cell_type": "code",
   "execution_count": 27,
   "id": "cb2c4aeb-9cbc-4575-a9cd-5bbd07d87641",
   "metadata": {},
   "outputs": [
    {
     "data": {
      "text/plain": [
       "array([[ 1,  2,  3,  4],\n",
       "       [ 5,  6,  7,  8],\n",
       "       [ 9, 10, 11, 12]])"
      ]
     },
     "execution_count": 27,
     "metadata": {},
     "output_type": "execute_result"
    }
   ],
   "source": [
    "a = np.array([1, 2, 3, 4, 5, 6, 7, 8, 9, 10, 11, 12])\n",
    "np.reshape(a, (3, 4)) # 3 x 4"
   ]
  },
  {
   "cell_type": "code",
   "execution_count": 29,
   "id": "710df176-3551-4dff-a8cf-652a3ea9cb0d",
   "metadata": {},
   "outputs": [
    {
     "data": {
      "text/plain": [
       "array([[5, 0, 0, 0, 0],\n",
       "       [0, 4, 0, 0, 0],\n",
       "       [0, 0, 3, 0, 0],\n",
       "       [0, 0, 0, 2, 0],\n",
       "       [0, 0, 0, 0, 1]])"
      ]
     },
     "execution_count": 29,
     "metadata": {},
     "output_type": "execute_result"
    }
   ],
   "source": [
    "np.diag([5, 4, 3, 2, 1])"
   ]
  },
  {
   "cell_type": "code",
   "execution_count": 36,
   "id": "b4a1d254-1669-4185-b59a-07d8a3d2fd84",
   "metadata": {},
   "outputs": [
    {
     "data": {
      "text/plain": [
       "array([[ 0,  0,  0, ...,  0,  0,  0],\n",
       "       [ 0,  1,  0, ...,  0,  0,  0],\n",
       "       [ 0,  0,  2, ...,  0,  0,  0],\n",
       "       ...,\n",
       "       [ 0,  0,  0, ..., 47,  0,  0],\n",
       "       [ 0,  0,  0, ...,  0, 48,  0],\n",
       "       [ 0,  0,  0, ...,  0,  0, 49]])"
      ]
     },
     "execution_count": 36,
     "metadata": {},
     "output_type": "execute_result"
    }
   ],
   "source": [
    "np.diag(range(50))"
   ]
  },
  {
   "cell_type": "markdown",
   "id": "63581175-2b1e-4d02-bb58-6bed60b55da0",
   "metadata": {},
   "source": [
    "Una matriz de 20 filas y 5 columnas con valores flotantes equiespaciados en el intervalo \n",
    "cerrado [1, 10]."
   ]
  },
  {
   "cell_type": "code",
   "execution_count": 52,
   "id": "de27f9ab-a76a-4691-8c49-9314dfa479d7",
   "metadata": {},
   "outputs": [
    {
     "data": {
      "text/plain": [
       "array([[ 1.        ,  1.09090909,  1.18181818,  1.27272727,  1.36363636],\n",
       "       [ 1.45454545,  1.54545455,  1.63636364,  1.72727273,  1.81818182],\n",
       "       [ 1.90909091,  2.        ,  2.09090909,  2.18181818,  2.27272727],\n",
       "       [ 2.36363636,  2.45454545,  2.54545455,  2.63636364,  2.72727273],\n",
       "       [ 2.81818182,  2.90909091,  3.        ,  3.09090909,  3.18181818],\n",
       "       [ 3.27272727,  3.36363636,  3.45454545,  3.54545455,  3.63636364],\n",
       "       [ 3.72727273,  3.81818182,  3.90909091,  4.        ,  4.09090909],\n",
       "       [ 4.18181818,  4.27272727,  4.36363636,  4.45454545,  4.54545455],\n",
       "       [ 4.63636364,  4.72727273,  4.81818182,  4.90909091,  5.        ],\n",
       "       [ 5.09090909,  5.18181818,  5.27272727,  5.36363636,  5.45454545],\n",
       "       [ 5.54545455,  5.63636364,  5.72727273,  5.81818182,  5.90909091],\n",
       "       [ 6.        ,  6.09090909,  6.18181818,  6.27272727,  6.36363636],\n",
       "       [ 6.45454545,  6.54545455,  6.63636364,  6.72727273,  6.81818182],\n",
       "       [ 6.90909091,  7.        ,  7.09090909,  7.18181818,  7.27272727],\n",
       "       [ 7.36363636,  7.45454545,  7.54545455,  7.63636364,  7.72727273],\n",
       "       [ 7.81818182,  7.90909091,  8.        ,  8.09090909,  8.18181818],\n",
       "       [ 8.27272727,  8.36363636,  8.45454545,  8.54545455,  8.63636364],\n",
       "       [ 8.72727273,  8.81818182,  8.90909091,  9.        ,  9.09090909],\n",
       "       [ 9.18181818,  9.27272727,  9.36363636,  9.45454545,  9.54545455],\n",
       "       [ 9.63636364,  9.72727273,  9.81818182,  9.90909091, 10.        ]])"
      ]
     },
     "execution_count": 52,
     "metadata": {},
     "output_type": "execute_result"
    }
   ],
   "source": [
    "matriz = np.linspace(1, 10, num=20*5).reshape(20, 5)\n",
    "matriz"
   ]
  },
  {
   "cell_type": "markdown",
   "id": "8335ef8e-f509-4954-be92-d5a280752279",
   "metadata": {},
   "source": [
    "Un array unidimensional con 128 valores aleatorios de una distribución normal 𝜇 = 1, 𝜎 = 2."
   ]
  },
  {
   "cell_type": "code",
   "execution_count": 53,
   "id": "f91ca51f-d17d-40a0-ad11-67ea6e1b4147",
   "metadata": {},
   "outputs": [
    {
     "data": {
      "text/plain": [
       "array([ 1.09331962e+00,  1.87486957e+00,  5.91736611e-01, -2.88204324e+00,\n",
       "       -2.01132597e+00,  2.33745405e+00,  1.60475316e+00,  1.50648438e-01,\n",
       "        3.03004910e+00, -5.91779532e-01,  2.47133895e+00,  3.39543858e+00,\n",
       "       -2.14352221e+00,  4.94362408e+00, -1.10863142e+00,  2.33398527e+00,\n",
       "       -1.95830725e+00,  1.12444079e+00,  1.11616015e+00,  5.26094894e+00,\n",
       "        2.18562244e+00,  2.45965338e+00, -1.58041593e+00,  4.24385938e+00,\n",
       "       -2.60581596e+00,  4.63707202e+00,  1.11284296e+00,  1.94966251e-01,\n",
       "        1.57250608e+00,  5.11359274e+00,  1.97737445e+00,  2.23051632e+00,\n",
       "        1.28952910e+00,  1.63745343e+00,  1.21338968e+00,  2.91750741e+00,\n",
       "        1.67897806e+00,  5.20219931e-01, -7.01920614e-04,  3.50421720e+00,\n",
       "        1.93405532e+00,  1.92309581e+00,  1.01240820e+00,  1.55180386e+00,\n",
       "        3.76709529e+00, -1.93147066e+00,  4.22586579e+00,  9.78487415e-01,\n",
       "       -3.01616269e-01,  2.40798978e+00,  1.52601161e+00,  5.06052310e-01,\n",
       "        5.03470489e-01,  6.40448545e-01,  5.25680029e-01, -4.36218474e-01,\n",
       "        1.45920190e+00,  1.49443124e+00,  3.58456740e-01, -8.70366636e-01,\n",
       "       -8.56986163e-01,  2.19988524e+00,  2.33543587e+00,  2.85239076e+00,\n",
       "        2.63799363e+00,  4.04291134e-01,  2.77033891e-01,  1.07866430e+00,\n",
       "        1.34873140e+00,  3.88974437e+00,  2.17142130e+00,  4.62479968e+00,\n",
       "        1.31098868e+00, -9.53627742e-01, -2.07009889e-02, -5.79551343e-01,\n",
       "        1.43283897e+00, -9.86226778e-01, -2.10082820e+00,  1.40942474e+00,\n",
       "        5.49648757e-01,  1.38232214e+00,  1.64198199e+00,  8.84919157e-01,\n",
       "        1.35456493e+00, -4.61125757e-01,  2.06418131e+00, -2.81752819e+00,\n",
       "        2.43703432e+00,  2.87594252e+00,  4.69999775e+00,  4.36693992e+00,\n",
       "        3.56699295e+00, -2.13750014e+00,  9.89738939e-01,  1.22506287e+00,\n",
       "        1.06309986e+00,  3.63925197e+00,  2.63608901e+00,  5.02344998e+00,\n",
       "        5.51020388e-01,  3.43544105e+00, -1.05776914e+00,  1.20124737e+00,\n",
       "       -1.74813792e+00, -3.87553474e-01,  1.85137181e+00, -2.39238555e+00,\n",
       "        2.22092505e-01,  2.71221086e+00, -1.63302137e+00, -2.60853052e+00,\n",
       "        1.12275886e+00,  2.98339065e+00,  1.55772979e+00,  2.23189102e-01,\n",
       "       -3.45237690e-01,  2.84744052e+00,  1.24220823e+00, -7.37729792e-01,\n",
       "        2.13301623e+00,  1.51958493e-01, -9.72205411e-01, -7.55037036e-01,\n",
       "        1.01074609e+00,  2.82842441e+00,  1.72484173e+00,  3.53462340e+00])"
      ]
     },
     "execution_count": 53,
     "metadata": {},
     "output_type": "execute_result"
    }
   ],
   "source": [
    "dist = np.random.normal(1, 2, size=128)\n",
    "dist"
   ]
  },
  {
   "cell_type": "markdown",
   "id": "2b325ee3-e487-4fd5-beb2-41e87c730f1d",
   "metadata": {},
   "source": [
    "Un array unidimensional con 15 valores aleatorios de una muestra 1, X, 2 donde la probabilidad de que gane el equipo local es del 50%, la probabilidad de que empaten es del 30% y la probabilidad de que gane el visitante es del 20%."
   ]
  },
  {
   "cell_type": "code",
   "execution_count": 61,
   "id": "280ff6c3-8e5b-4d10-a0e9-52ce452424e1",
   "metadata": {},
   "outputs": [
    {
     "data": {
      "text/plain": [
       "array(['2', '1', '2', 'X', '2', '1', '1', 'X', '2', '1', '2', 'X', '2',\n",
       "       '2', '1'], dtype='<U11')"
      ]
     },
     "execution_count": 61,
     "metadata": {},
     "output_type": "execute_result"
    }
   ],
   "source": [
    "opciones = [1, 'X', 2]\n",
    "probabilidades = [0.5, 0.3, 0.2]\n",
    "\n",
    "array = np.random.choice(opciones, size=15, p=probabilidades)\n",
    "array\n"
   ]
  },
  {
   "cell_type": "code",
   "execution_count": 63,
   "id": "3c67447c-7ca6-4985-88da-119744997370",
   "metadata": {},
   "outputs": [
    {
     "data": {
      "text/plain": [
       "array([[ 1,  2,  3,  4],\n",
       "       [ 5,  6,  7,  8],\n",
       "       [ 9, 10, 11, 12]])"
      ]
     },
     "execution_count": 63,
     "metadata": {},
     "output_type": "execute_result"
    }
   ],
   "source": [
    "values = np.arange(1, 13).reshape(3, 4)\n",
    "values"
   ]
  },
  {
   "cell_type": "code",
   "execution_count": 68,
   "id": "68b146f1-6e27-4f6c-b295-47081d4bb643",
   "metadata": {},
   "outputs": [
    {
     "data": {
      "text/plain": [
       "array([ 2, 11])"
      ]
     },
     "execution_count": 68,
     "metadata": {},
     "output_type": "execute_result"
    }
   ],
   "source": [
    "values[[0, 2], [1, 2]]"
   ]
  },
  {
   "cell_type": "code",
   "execution_count": 74,
   "id": "6ae31708-4e6f-4979-9863-8d24fb126542",
   "metadata": {},
   "outputs": [
    {
     "data": {
      "text/plain": [
       "array([[1, 2, 3],\n",
       "       [5, 6, 7]])"
      ]
     },
     "execution_count": 74,
     "metadata": {},
     "output_type": "execute_result"
    }
   ],
   "source": [
    "values[0:2, 0:3]"
   ]
  },
  {
   "cell_type": "code",
   "execution_count": 73,
   "id": "98bfd866-2050-4326-afaf-1e8a0561e603",
   "metadata": {},
   "outputs": [
    {
     "data": {
      "text/plain": [
       "array([[ 1,  2,  3,  4],\n",
       "       [ 5,  6,  7,  8],\n",
       "       [ 9, 10, 11, 12]])"
      ]
     },
     "execution_count": 73,
     "metadata": {},
     "output_type": "execute_result"
    }
   ],
   "source": [
    "values"
   ]
  },
  {
   "cell_type": "code",
   "execution_count": 75,
   "id": "d6057883-cb2c-460f-a968-94060984708e",
   "metadata": {},
   "outputs": [
    {
     "data": {
      "text/plain": [
       "array([[100,   2,   3,   4],\n",
       "       [  5,   6,   7,   8],\n",
       "       [  9,  10,  11,  12]])"
      ]
     },
     "execution_count": 75,
     "metadata": {},
     "output_type": "execute_result"
    }
   ],
   "source": [
    "values[0, 0] = 100\n",
    "values"
   ]
  },
  {
   "cell_type": "code",
   "execution_count": 76,
   "id": "29148235-b5ed-455a-aa4f-b9c2ba8ffdd9",
   "metadata": {},
   "outputs": [
    {
     "data": {
      "text/plain": [
       "array([[100,   2,   3,   4],\n",
       "       [ 55,  66,  77,  88],\n",
       "       [  9,  10,  11,  12]])"
      ]
     },
     "execution_count": 76,
     "metadata": {},
     "output_type": "execute_result"
    }
   ],
   "source": [
    "values[1] = [55, 66, 77, 88]\n",
    "values"
   ]
  },
  {
   "cell_type": "code",
   "execution_count": 77,
   "id": "c07a3daf-c670-4c65-bf4e-a448554804e0",
   "metadata": {},
   "outputs": [
    {
     "data": {
      "text/plain": [
       "array([[100,   2,  30,   4],\n",
       "       [ 55,  66,  70,  88],\n",
       "       [  9,  10, 110,  12]])"
      ]
     },
     "execution_count": 77,
     "metadata": {},
     "output_type": "execute_result"
    }
   ],
   "source": [
    "values[:,2] = [30, 70, 110]\n",
    "values"
   ]
  },
  {
   "cell_type": "code",
   "execution_count": 78,
   "id": "282751a5-2ee7-46e7-afe8-cd9c01279e9e",
   "metadata": {},
   "outputs": [
    {
     "data": {
      "text/plain": [
       "array([[ 55,  66,  70,  88],\n",
       "       [  9,  10, 110,  12]])"
      ]
     },
     "execution_count": 78,
     "metadata": {},
     "output_type": "execute_result"
    }
   ],
   "source": [
    "np.delete(values, 0, axis=0)"
   ]
  },
  {
   "cell_type": "code",
   "execution_count": 82,
   "id": "168d76f2-3adb-4507-9757-2850e492ed4f",
   "metadata": {},
   "outputs": [
    {
     "data": {
      "text/plain": [
       "array([55, 10])"
      ]
     },
     "execution_count": 82,
     "metadata": {},
     "output_type": "execute_result"
    }
   ],
   "source": [
    "np.diag(values, -1)"
   ]
  },
  {
   "cell_type": "code",
   "execution_count": null,
   "id": "db963fbe-62e3-45a4-8bf6-b975a178eed6",
   "metadata": {},
   "outputs": [],
   "source": []
  }
 ],
 "metadata": {
  "kernelspec": {
   "display_name": "Python 3 (ipykernel)",
   "language": "python",
   "name": "python3"
  },
  "language_info": {
   "codemirror_mode": {
    "name": "ipython",
    "version": 3
   },
   "file_extension": ".py",
   "mimetype": "text/x-python",
   "name": "python",
   "nbconvert_exporter": "python",
   "pygments_lexer": "ipython3",
   "version": "3.12.4"
  }
 },
 "nbformat": 4,
 "nbformat_minor": 5
}
