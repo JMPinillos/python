{
 "cells": [
  {
   "cell_type": "markdown",
   "id": "0b9bf74c-efaf-4b5d-9eb1-cc56a9889630",
   "metadata": {},
   "source": [
    "Escribe un programa que cree un array unidimensional con los enteros positivos \n",
    "múti�plos de 4 menores que 100."
   ]
  },
  {
   "cell_type": "code",
   "execution_count": 248,
   "id": "43907930-c168-445d-a3c1-ca2931440a62",
   "metadata": {},
   "outputs": [
    {
     "data": {
      "text/plain": [
       "array([ 0,  1,  2,  3,  4,  5,  6,  7,  8,  9, 10, 11, 12, 13, 14, 15, 16,\n",
       "       17, 18, 19, 20, 21, 22, 23, 24, 25, 26, 27, 28, 29, 30, 31, 32, 33,\n",
       "       34, 35, 36, 37, 38, 39])"
      ]
     },
     "execution_count": 248,
     "metadata": {},
     "output_type": "execute_result"
    }
   ],
   "source": [
    "import numpy as np\n",
    "\n",
    "np.arange(0,100,4)"
   ]
  },
  {
   "cell_type": "markdown",
   "id": "d04f5622-3344-4b05-88c3-9cdc495e07b3",
   "metadata": {},
   "source": [
    "Escribe un programa que cree un array bidimensional de 5 filas y 4 columnas con los \n",
    "enteros desde 0 hasta 19."
   ]
  },
  {
   "cell_type": "code",
   "execution_count": 102,
   "id": "6839374b-d854-4b81-b201-047df2ea72a5",
   "metadata": {},
   "outputs": [
    {
     "data": {
      "text/plain": [
       "array([[ 0,  1,  2,  3],\n",
       "       [ 4,  5,  6,  7],\n",
       "       [ 8,  9, 10, 11],\n",
       "       [12, 13, 14, 15],\n",
       "       [16, 17, 18, 19]])"
      ]
     },
     "execution_count": 102,
     "metadata": {},
     "output_type": "execute_result"
    }
   ],
   "source": [
    "import numpy as np\n",
    "\n",
    "np.arange(20).reshape(5,4)"
   ]
  },
  {
   "cell_type": "markdown",
   "id": "7ca624da-cd79-40e2-9d67-9097f1d9a1c9",
   "metadata": {},
   "source": [
    "Escribe un programa que invierte el orden de los elementos de un array unidimensional."
   ]
  },
  {
   "cell_type": "code",
   "execution_count": 112,
   "id": "51588876-49d5-48f9-b6bd-2f3f11d78347",
   "metadata": {},
   "outputs": [
    {
     "name": "stdout",
     "output_type": "stream",
     "text": [
      "[19 18 17 16 15 14 13 12 11 10  9  8  7  6  5  4  3  2  1  0]\n"
     ]
    },
    {
     "data": {
      "text/plain": [
       "array([19, 18, 17, 16, 15, 14, 13, 12, 11, 10,  9,  8,  7,  6,  5,  4,  3,\n",
       "        2,  1,  0])"
      ]
     },
     "execution_count": 112,
     "metadata": {},
     "output_type": "execute_result"
    }
   ],
   "source": [
    "import numpy as np\n",
    "\n",
    "x = np.arange(20)\n",
    "inverter = np.flip(x)\n",
    "print(inverter)"
   ]
  },
  {
   "cell_type": "markdown",
   "id": "d8ed14d6-4f15-4acb-b512-4f23a69f9006",
   "metadata": {},
   "source": [
    "Escribe un programa que invierte el orden de las filas de un array bidimensional."
   ]
  },
  {
   "cell_type": "code",
   "execution_count": 117,
   "id": "dfbe6f84-534d-48b6-b57f-e9da0b993f85",
   "metadata": {},
   "outputs": [
    {
     "name": "stdout",
     "output_type": "stream",
     "text": [
      "[[16 17 18 19]\n",
      " [12 13 14 15]\n",
      " [ 8  9 10 11]\n",
      " [ 4  5  6  7]\n",
      " [ 0  1  2  3]]\n"
     ]
    }
   ],
   "source": [
    "import numpy as np\n",
    "\n",
    "x = np.arange(20).reshape(5,4)\n",
    "inverter = np.flipud(x)\n",
    "inverter"
   ]
  },
  {
   "cell_type": "markdown",
   "id": "e0db907d-f456-4c1f-9770-275464aeab66",
   "metadata": {},
   "source": [
    "Escribe un programa que calcule la media de los elementos de cada columna de un \n",
    "array bidimensional."
   ]
  },
  {
   "cell_type": "code",
   "execution_count": 138,
   "id": "ec72e9e5-7e75-41ce-96cf-3d88905b447f",
   "metadata": {},
   "outputs": [
    {
     "name": "stdout",
     "output_type": "stream",
     "text": [
      "[ 8.  9. 10. 11.]\n"
     ]
    }
   ],
   "source": [
    "import numpy as np\n",
    "\n",
    "x = np.arange(20).reshape(5,4)\n",
    "print(np.mean(x, axis=0))"
   ]
  },
  {
   "cell_type": "markdown",
   "id": "dd93cd0d-deff-4cc4-ad59-8ff9f2223b57",
   "metadata": {},
   "source": [
    "Escribe un programa que redimensione un array unidimensional a un array bidimensional con 4 filas y 3 columnas."
   ]
  },
  {
   "cell_type": "code",
   "execution_count": 247,
   "id": "81926744-ad73-4688-b6ee-0d748ee8234d",
   "metadata": {},
   "outputs": [
    {
     "name": "stdout",
     "output_type": "stream",
     "text": [
      "[ 0  1  2  3  4  5  6  7  8  9 10 11]\n",
      "[[ 0  1  2]\n",
      " [ 3  4  5]\n",
      " [ 6  7  8]\n",
      " [ 9 10 11]]\n"
     ]
    }
   ],
   "source": [
    "import numpy as np\n",
    "\n",
    "vector = np.arange(12)\n",
    "array_2d = np.reshape(vector, (4,3))\n",
    "\n",
    "print(vector)\n",
    "print(array_2d)"
   ]
  },
  {
   "cell_type": "markdown",
   "id": "79c4a685-03e6-474e-807c-215c0e04e5e1",
   "metadata": {},
   "source": [
    "Escribe un programa que, dado un array unidimensional, compruebe si se puede redimensionar a un array bidimensional con el mismo número de filas y columnas (matriz cuadrada). En caso afirmativo, debe imprimir la matriz cuadrada. En caso negativo, debe imprimir un mensaje informativo."
   ]
  },
  {
   "cell_type": "code",
   "execution_count": 246,
   "id": "5613377f-e4fb-4aa4-a823-c176e361bdf0",
   "metadata": {},
   "outputs": [
    {
     "name": "stdout",
     "output_type": "stream",
     "text": [
      "[[ 0  1  2  3  4]\n",
      " [ 5  6  7  8  9]\n",
      " [10 11 12 13 14]\n",
      " [15 16 17 18 19]\n",
      " [20 21 22 23 24]]\n"
     ]
    }
   ],
   "source": [
    "import numpy as np\n",
    "\n",
    "vector = np.arange(25)\n",
    "nElements = vector.size\n",
    "dimension = int(np.sqrt(nElements))\n",
    "\n",
    "if dimension * dimension == nElements:\n",
    "    matrix = np.reshape(vector, (dimension,dimension))\n",
    "    print(matrix)\n",
    "else:\n",
    "    print(\"No se puede crear una matriz cuadrada\")"
   ]
  },
  {
   "cell_type": "markdown",
   "id": "6ea4b2e5-b55a-443a-bc13-eec1c648fe9e",
   "metadata": {},
   "source": [
    "Escribe un programa que, dado un array bidimensional, halle el máximo de cada fila."
   ]
  },
  {
   "cell_type": "code",
   "execution_count": 236,
   "id": "a7c7c0e6-bc60-458f-8c1b-3c94773cb0b2",
   "metadata": {},
   "outputs": [
    {
     "name": "stdout",
     "output_type": "stream",
     "text": [
      "[[50 34 94  1]\n",
      " [19 33 64 42]\n",
      " [ 1 71  3 15]\n",
      " [ 9 55 29 82]\n",
      " [24 17 15 63]]\n",
      "[94 64 71 82 63]\n"
     ]
    }
   ],
   "source": [
    "import numpy as np\n",
    "\n",
    "matrix = np.random.randint(0, 100, (5,4))\n",
    "\n",
    "print(matrix)\n",
    "print(np.max(matrix, axis=1))"
   ]
  },
  {
   "cell_type": "markdown",
   "id": "224aeb3a-45b5-4167-9ed8-f99c83916ac6",
   "metadata": {},
   "source": [
    "Escribe un programa que, dado un array unidimensional, halle el número de veces que \n",
    "aparece cada uno de sus elementos únicos."
   ]
  },
  {
   "cell_type": "code",
   "execution_count": 255,
   "id": "34820555-9de1-4b71-89dc-e8eb7671360c",
   "metadata": {},
   "outputs": [
    {
     "name": "stdout",
     "output_type": "stream",
     "text": [
      "Elementos únicos: [1 2 3 4 5]\n",
      "Recuentos: [3 2 2 3 1]\n"
     ]
    }
   ],
   "source": [
    "import numpy as np\n",
    "\n",
    "vector = np.array([1, 2, 3, 2, 4, 1, 3, 1, 4, 4, 5])\n",
    "\n",
    "elementos_unicos, recuentos = np.unique(vector, return_counts=True)\n",
    "print(\"Elementos únicos:\", elementos_unicos)\n",
    "print(\"Recuentos:\", recuentos)"
   ]
  },
  {
   "cell_type": "markdown",
   "id": "6195bd5a-d70e-4878-b30a-0e4b2ce42be1",
   "metadata": {},
   "source": [
    "Normaliza un array bidimensional de 4 filas y 3 columnas restando la media y \n",
    "dividiendo por la desviacióntí�pica en cada columna."
   ]
  },
  {
   "cell_type": "code",
   "execution_count": 276,
   "id": "4cfa28b6-c927-4170-8ad6-0b8e728da1ce",
   "metadata": {},
   "outputs": [
    {
     "name": "stdout",
     "output_type": "stream",
     "text": [
      "[[ 0  1  2]\n",
      " [ 3  4  5]\n",
      " [ 6  7  8]\n",
      " [ 9 10 11]]\n",
      "[4.5 5.5 6.5]\n",
      "[3.35410197 3.35410197 3.35410197]\n",
      "[[-1.34164079 -1.34164079 -1.34164079]\n",
      " [-0.4472136  -0.4472136  -0.4472136 ]\n",
      " [ 0.4472136   0.4472136   0.4472136 ]\n",
      " [ 1.34164079  1.34164079  1.34164079]]\n"
     ]
    }
   ],
   "source": [
    "import numpy as np\n",
    "\n",
    "matrix = np.arange(12).reshape(4,3)\n",
    "average = np.mean(matrix, axis=0)\n",
    "dt = np.std(matrix, axis=0)\n",
    "normalizeMatrix = (matrix - average) / dt\n",
    "\n",
    "print(matrix)\n",
    "print(average)\n",
    "print(dt)\n",
    "print(normalizeMatrix)"
   ]
  },
  {
   "cell_type": "markdown",
   "id": "086fc89f-737a-4b6e-b8c0-02a1011aa973",
   "metadata": {},
   "source": [
    "Normaliza un array bidimensional de 4 filas y 3 columnas restando la media y \n",
    "dividiendo por la desviacióntí�pica en cada fila."
   ]
  },
  {
   "cell_type": "code",
   "execution_count": 283,
   "id": "710df176-3551-4dff-a8cf-652a3ea9cb0d",
   "metadata": {},
   "outputs": [
    {
     "name": "stdout",
     "output_type": "stream",
     "text": [
      "[[ 0  1  2]\n",
      " [ 3  4  5]\n",
      " [ 6  7  8]\n",
      " [ 9 10 11]]\n",
      "[[ 1.]\n",
      " [ 4.]\n",
      " [ 7.]\n",
      " [10.]]\n",
      "[[0.81649658]\n",
      " [0.81649658]\n",
      " [0.81649658]\n",
      " [0.81649658]]\n",
      "[[-1.22474487  0.          1.22474487]\n",
      " [-1.22474487  0.          1.22474487]\n",
      " [-1.22474487  0.          1.22474487]\n",
      " [-1.22474487  0.          1.22474487]]\n"
     ]
    }
   ],
   "source": [
    "import numpy as np\n",
    "\n",
    "matrix = np.arange(12).reshape(4,3)\n",
    "average = np.mean(matrix, axis=1).reshape((4,1))\n",
    "dt = np.std(matrix, axis=1).reshape((4,1))\n",
    "normalizeMatrix = (matrix - average) / dt\n",
    "\n",
    "print(matrix)\n",
    "print(average)\n",
    "print(dt)\n",
    "print(normalizeMatrix)"
   ]
  },
  {
   "cell_type": "markdown",
   "id": "09980ae3-8550-4316-b243-ec334c15d390",
   "metadata": {},
   "source": [
    "Escribe un programa que, dado un array bidimensional, halle los índices (filas y columnas) de los elementos mínimo y máximo del array."
   ]
  },
  {
   "cell_type": "code",
   "execution_count": 300,
   "id": "de27f9ab-a76a-4691-8c49-9314dfa479d7",
   "metadata": {},
   "outputs": [
    {
     "name": "stdout",
     "output_type": "stream",
     "text": [
      "[[ 0  1  2]\n",
      " [ 3  4  5]\n",
      " [ 6  7  8]\n",
      " [ 9 10 11]]\n",
      "Índices del elemento máximo: (3, 2)\n",
      "Índices del elemento mínimo: (0, 0)\n"
     ]
    }
   ],
   "source": [
    "import numpy as np\n",
    "\n",
    "matrix = np.arange(12).reshape(4,3)\n",
    "idxMax = np.unravel_index(np.argmax(matriz), matriz.shape)\n",
    "idxMin = np.unravel_index(np.argmin(matriz), matriz.shape)\n",
    "\n",
    "print(matrix)\n",
    "print(\"Índices del elemento máximo:\", idxMax)\n",
    "print(\"Índices del elemento mínimo:\", idxMin)"
   ]
  },
  {
   "cell_type": "markdown",
   "id": "2b325ee3-e487-4fd5-beb2-41e87c730f1d",
   "metadata": {},
   "source": [
    "Escribe un programa que ordene las filas de un array bidimensional según los valores \n",
    "de la primera columna."
   ]
  },
  {
   "cell_type": "code",
   "execution_count": 344,
   "id": "8cf49bd0-9cab-4820-95cf-f45b366dac27",
   "metadata": {},
   "outputs": [
    {
     "name": "stdout",
     "output_type": "stream",
     "text": [
      "[[10  2  1]\n",
      " [ 6  5  4]\n",
      " [ 9  8  7]\n",
      " [20  5 11]]\n",
      "[[ 6  5  4]\n",
      " [ 9  8  7]\n",
      " [10  2  1]\n",
      " [20  5 11]]\n"
     ]
    }
   ],
   "source": [
    "import numpy as np\n",
    "\n",
    "matrix = np.array([[10, 2, 1], [6, 5, 4], [9, 8, 7], [20, 5, 11]])\n",
    "matriz_ordenada = matrix[matrix[:,0].argsort()]\n",
    "\n",
    "print(matrix)\n",
    "print(matriz_ordenada)\n"
   ]
  },
  {
   "cell_type": "markdown",
   "id": "9772b787-1faf-47a6-b49b-989cbc949bd6",
   "metadata": {},
   "source": [
    "Escribe un programa que genere una matriz bidimensional con 7 filas y 5 columnas \n",
    "aleatoriamente de acuerdo a la distribución normal, y a coti�nuación ponga a cer \r\n",
    "todos los elementos neti􀆟vos."
   ]
  },
  {
   "cell_type": "code",
   "execution_count": 379,
   "id": "20e4da70-9993-4dba-8c5a-351060d6b6d3",
   "metadata": {},
   "outputs": [
    {
     "name": "stdout",
     "output_type": "stream",
     "text": [
      "[[ 41.31618663  98.19879084   0.         255.00306387   0.        ]\n",
      " [  0.           0.          23.86493948  87.49314093   0.        ]\n",
      " [ 15.81346749 109.31079113   0.           5.08366815 112.3029395 ]\n",
      " [  0.           0.           0.          73.17092769 216.86516321]\n",
      " [ 37.8269857    0.           6.18154506   0.           2.62155158]\n",
      " [ 92.02194995   0.           0.           0.           0.        ]\n",
      " [  0.42032851   1.02033915 203.99540599  97.04431997   0.        ]]\n"
     ]
    }
   ],
   "source": [
    "import numpy as np\n",
    "\n",
    "matrix = np.random.normal(0,100,(7,5))\n",
    "matrix[matrix < 0] = 0\n",
    "\n",
    "print(matrix)"
   ]
  },
  {
   "cell_type": "markdown",
   "id": "95d4e274-97b9-42a9-90e1-4fbc66103d23",
   "metadata": {},
   "source": [
    "Escribe un programa que, dado un array unidimensional y un número entero positivo k, \n",
    "halle los índices de los k mayores valores del array."
   ]
  },
  {
   "cell_type": "code",
   "execution_count": 390,
   "id": "ff5eb29a-6e67-446b-b90f-e9992e30735b",
   "metadata": {},
   "outputs": [
    {
     "name": "stdout",
     "output_type": "stream",
     "text": [
      "[ 5  2 12 -1  8  6  1  9  3  7]\n",
      "(array([0, 2, 4, 5, 7, 9], dtype=int64),)\n"
     ]
    }
   ],
   "source": [
    "import numpy as np\n",
    "\n",
    "vector = np.array([5, 2, 12, -1, 8, 6, 1, 9, 3, 7])\n",
    "\n",
    "print(vector)\n",
    "print(np.where(vector > 4))"
   ]
  },
  {
   "cell_type": "markdown",
   "id": "3065315d-ae07-4e69-a403-54108114dfc9",
   "metadata": {},
   "source": [
    "Escribe un programa que genere una matriz bidimensional con 6 filas y 7 columnas aleatoriamente de acuerdo a la distribución uniforme, y a continuación ponga a cero las dos primeras columnas y a uno las tres últimas columnas."
   ]
  },
  {
   "cell_type": "code",
   "execution_count": 421,
   "id": "b64094aa-5065-4002-a97b-9e41ee8f6b8b",
   "metadata": {},
   "outputs": [
    {
     "name": "stdout",
     "output_type": "stream",
     "text": [
      "[[0.         0.         0.66011002 0.52504995 1.         1.\n",
      "  1.        ]\n",
      " [0.         0.         0.42121169 0.64934339 1.         1.\n",
      "  1.        ]\n",
      " [0.         0.         0.50581286 0.98626358 1.         1.\n",
      "  1.        ]\n",
      " [0.         0.         0.77508602 0.707852   1.         1.\n",
      "  1.        ]\n",
      " [0.         0.         0.90016043 0.31336479 1.         1.\n",
      "  1.        ]\n",
      " [0.         0.         0.76361999 0.44578212 1.         1.\n",
      "  1.        ]]\n"
     ]
    }
   ],
   "source": [
    "import numpy as np\n",
    "\n",
    "matrix = np.random.uniform(size=(6,7))\n",
    "matrix[:,:2]=0\n",
    "matrix[:,-3:]=1\n",
    "\n",
    "print(matrix)"
   ]
  }
 ],
 "metadata": {
  "kernelspec": {
   "display_name": "Python 3 (ipykernel)",
   "language": "python",
   "name": "python3"
  },
  "language_info": {
   "codemirror_mode": {
    "name": "ipython",
    "version": 3
   },
   "file_extension": ".py",
   "mimetype": "text/x-python",
   "name": "python",
   "nbconvert_exporter": "python",
   "pygments_lexer": "ipython3",
   "version": "3.12.4"
  }
 },
 "nbformat": 4,
 "nbformat_minor": 5
}
