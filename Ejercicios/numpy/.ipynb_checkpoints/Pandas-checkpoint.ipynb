{
 "cells": [
  {
   "cell_type": "markdown",
   "id": "59c55c7a-9e14-497a-ba0a-482657e4c0f9",
   "metadata": {},
   "source": [
    "Cree una serie de pandas con valores enteros en el intervalo [1, 26] y etiquetas \"�ABCDEFGHIJKLMNOPQRSTUVWXY\"�. Busque una manera programática (no manual) de hacerl \r\n",
    "(recuerde el módulo string)."
   ]
  },
  {
   "cell_type": "code",
   "execution_count": 13,
   "id": "1511d2a1-0be1-4a48-bd03-af00504cf2ac",
   "metadata": {},
   "outputs": [
    {
     "data": {
      "text/plain": [
       "A     1\n",
       "B     2\n",
       "C     3\n",
       "D     4\n",
       "E     5\n",
       "F     6\n",
       "G     7\n",
       "H     8\n",
       "I     9\n",
       "J    10\n",
       "K    11\n",
       "L    12\n",
       "M    13\n",
       "N    14\n",
       "O    15\n",
       "P    16\n",
       "Q    17\n",
       "R    18\n",
       "S    19\n",
       "T    20\n",
       "U    21\n",
       "V    22\n",
       "W    23\n",
       "X    24\n",
       "Y    25\n",
       "Z    26\n",
       "dtype: int64"
      ]
     },
     "execution_count": 13,
     "metadata": {},
     "output_type": "execute_result"
    }
   ],
   "source": [
    "import pandas as pd\n",
    "import string\n",
    "\n",
    "etiquetas = list(string.ascii_uppercase)\n",
    "\n",
    "pd.Series(range(1,27), index=etiquetas)"
   ]
  },
  {
   "cell_type": "code",
   "execution_count": 20,
   "id": "98a82e0d-99ac-4709-a2ee-69ece89fbbb1",
   "metadata": {},
   "outputs": [],
   "source": [
    "import pandas as pd\n",
    "\n",
    "data = {'Apple': 147000,\n",
    "'Samsung': 267937,\n",
    "'Google': 135301,\n",
    "'Microsoft': 163000,\n",
    "'Huawei': 197000,\n",
    "'Dell': 158000,\n",
    "'Facebook': 58604,\n",
    "'Foxconn': 878429,\n",
    "'Sony': 109700}\n",
    "\n",
    "employees = pd.Series(data, name='Tech Employees')"
   ]
  },
  {
   "cell_type": "code",
   "execution_count": 21,
   "id": "d42b4be5-4e13-4e3d-8572-3e05709255e4",
   "metadata": {},
   "outputs": [
    {
     "data": {
      "text/plain": [
       "Apple        147000\n",
       "Samsung      267937\n",
       "Google       135301\n",
       "Microsoft    163000\n",
       "Huawei       197000\n",
       "Dell         158000\n",
       "Facebook      58604\n",
       "Foxconn      878429\n",
       "Sony         109700\n",
       "Name: Tech Employees, dtype: int64"
      ]
     },
     "execution_count": 21,
     "metadata": {},
     "output_type": "execute_result"
    }
   ],
   "source": [
    "employees"
   ]
  },
  {
   "cell_type": "code",
   "execution_count": 32,
   "id": "c5781503-453c-43d6-aa8a-ed0269d67af0",
   "metadata": {},
   "outputs": [
    {
     "data": {
      "text/plain": [
       "Apple     147000\n",
       "Google    135301\n",
       "Huawei    197000\n",
       "Name: Tech Employees, dtype: int64"
      ]
     },
     "execution_count": 32,
     "metadata": {},
     "output_type": "execute_result"
    }
   ],
   "source": [
    "employees[\"Apple\":\"Huawei\":2]"
   ]
  },
  {
   "cell_type": "code",
   "execution_count": null,
   "id": "c2b4d164-cb62-4168-a313-80a013c83adf",
   "metadata": {},
   "outputs": [],
   "source": []
  }
 ],
 "metadata": {
  "kernelspec": {
   "display_name": "Python 3 (ipykernel)",
   "language": "python",
   "name": "python3"
  },
  "language_info": {
   "codemirror_mode": {
    "name": "ipython",
    "version": 3
   },
   "file_extension": ".py",
   "mimetype": "text/x-python",
   "name": "python",
   "nbconvert_exporter": "python",
   "pygments_lexer": "ipython3",
   "version": "3.12.4"
  }
 },
 "nbformat": 4,
 "nbformat_minor": 5
}
